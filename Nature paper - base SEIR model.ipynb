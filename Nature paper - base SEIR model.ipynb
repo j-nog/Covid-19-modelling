{
 "cells": [
  {
   "cell_type": "code",
   "execution_count": 1,
   "metadata": {},
   "outputs": [],
   "source": [
    "import numpy as np\n",
    "import pandas as pd\n",
    "\n",
    "from scipy.integrate import odeint\n",
    "import matplotlib.pyplot as plt"
   ]
  },
  {
   "cell_type": "code",
   "execution_count": null,
   "metadata": {},
   "outputs": [],
   "source": []
  },
  {
   "cell_type": "code",
   "execution_count": 104,
   "metadata": {},
   "outputs": [],
   "source": [
    "cov = pd.read_csv('corona2.csv')"
   ]
  },
  {
   "cell_type": "code",
   "execution_count": 105,
   "metadata": {},
   "outputs": [
    {
     "data": {
      "text/html": [
       "<div>\n",
       "<style scoped>\n",
       "    .dataframe tbody tr th:only-of-type {\n",
       "        vertical-align: middle;\n",
       "    }\n",
       "\n",
       "    .dataframe tbody tr th {\n",
       "        vertical-align: top;\n",
       "    }\n",
       "\n",
       "    .dataframe thead th {\n",
       "        text-align: right;\n",
       "    }\n",
       "</style>\n",
       "<table border=\"1\" class=\"dataframe\">\n",
       "  <thead>\n",
       "    <tr style=\"text-align: right;\">\n",
       "      <th></th>\n",
       "      <th>%</th>\n",
       "      <th>Dia</th>\n",
       "      <th>Casos</th>\n",
       "      <th>Unnamed: 3</th>\n",
       "      <th>China</th>\n",
       "      <th>K</th>\n",
       "      <th>Alpha</th>\n",
       "      <th>Beta</th>\n",
       "      <th>Unnamed: 8</th>\n",
       "      <th>Italia</th>\n",
       "      <th>K.1</th>\n",
       "      <th>Alpha.1</th>\n",
       "      <th>Beta.1</th>\n",
       "      <th>Unnamed: 13</th>\n",
       "      <th>Unnamed: 14</th>\n",
       "      <th>Unnamed: 15</th>\n",
       "      <th>Portugal</th>\n",
       "      <th>K.2</th>\n",
       "      <th>Alpha.2</th>\n",
       "      <th>Beta.2</th>\n",
       "    </tr>\n",
       "  </thead>\n",
       "  <tbody>\n",
       "    <tr>\n",
       "      <td>0</td>\n",
       "      <td>NaN</td>\n",
       "      <td>2</td>\n",
       "      <td>2.0</td>\n",
       "      <td>NaN</td>\n",
       "      <td>278.027361</td>\n",
       "      <td>81077</td>\n",
       "      <td>0.2836</td>\n",
       "      <td>22</td>\n",
       "      <td>NaN</td>\n",
       "      <td>2.023939</td>\n",
       "      <td>35000</td>\n",
       "      <td>0.238</td>\n",
       "      <td>43</td>\n",
       "      <td>NaN</td>\n",
       "      <td>2</td>\n",
       "      <td>2.0</td>\n",
       "      <td>3.939708</td>\n",
       "      <td>2900</td>\n",
       "      <td>0.33</td>\n",
       "      <td>22</td>\n",
       "    </tr>\n",
       "    <tr>\n",
       "      <td>1</td>\n",
       "      <td>100.000000</td>\n",
       "      <td>3</td>\n",
       "      <td>4.0</td>\n",
       "      <td>NaN</td>\n",
       "      <td>368.778329</td>\n",
       "      <td>81077</td>\n",
       "      <td>0.2836</td>\n",
       "      <td>22</td>\n",
       "      <td>NaN</td>\n",
       "      <td>2.567750</td>\n",
       "      <td>35000</td>\n",
       "      <td>0.238</td>\n",
       "      <td>43</td>\n",
       "      <td>NaN</td>\n",
       "      <td>3</td>\n",
       "      <td>4.0</td>\n",
       "      <td>5.477099</td>\n",
       "      <td>2900</td>\n",
       "      <td>0.33</td>\n",
       "      <td>22</td>\n",
       "    </tr>\n",
       "    <tr>\n",
       "      <td>2</td>\n",
       "      <td>50.000000</td>\n",
       "      <td>4</td>\n",
       "      <td>6.0</td>\n",
       "      <td>NaN</td>\n",
       "      <td>488.972075</td>\n",
       "      <td>81077</td>\n",
       "      <td>0.2836</td>\n",
       "      <td>22</td>\n",
       "      <td>NaN</td>\n",
       "      <td>3.257664</td>\n",
       "      <td>35000</td>\n",
       "      <td>0.238</td>\n",
       "      <td>43</td>\n",
       "      <td>NaN</td>\n",
       "      <td>4</td>\n",
       "      <td>6.0</td>\n",
       "      <td>7.612849</td>\n",
       "      <td>2900</td>\n",
       "      <td>0.33</td>\n",
       "      <td>22</td>\n",
       "    </tr>\n",
       "    <tr>\n",
       "      <td>3</td>\n",
       "      <td>50.000000</td>\n",
       "      <td>5</td>\n",
       "      <td>9.0</td>\n",
       "      <td>NaN</td>\n",
       "      <td>648.025321</td>\n",
       "      <td>81077</td>\n",
       "      <td>0.2836</td>\n",
       "      <td>22</td>\n",
       "      <td>NaN</td>\n",
       "      <td>4.132924</td>\n",
       "      <td>35000</td>\n",
       "      <td>0.238</td>\n",
       "      <td>43</td>\n",
       "      <td>NaN</td>\n",
       "      <td>5</td>\n",
       "      <td>9.0</td>\n",
       "      <td>10.578373</td>\n",
       "      <td>2900</td>\n",
       "      <td>0.33</td>\n",
       "      <td>22</td>\n",
       "    </tr>\n",
       "    <tr>\n",
       "      <td>4</td>\n",
       "      <td>44.444444</td>\n",
       "      <td>6</td>\n",
       "      <td>13.0</td>\n",
       "      <td>NaN</td>\n",
       "      <td>858.264542</td>\n",
       "      <td>81077</td>\n",
       "      <td>0.2836</td>\n",
       "      <td>22</td>\n",
       "      <td>NaN</td>\n",
       "      <td>5.243313</td>\n",
       "      <td>35000</td>\n",
       "      <td>0.238</td>\n",
       "      <td>43</td>\n",
       "      <td>NaN</td>\n",
       "      <td>6</td>\n",
       "      <td>13.0</td>\n",
       "      <td>14.693225</td>\n",
       "      <td>2900</td>\n",
       "      <td>0.33</td>\n",
       "      <td>22</td>\n",
       "    </tr>\n",
       "  </tbody>\n",
       "</table>\n",
       "</div>"
      ],
      "text/plain": [
       "            %  Dia  Casos  Unnamed: 3       China      K   Alpha  Beta  \\\n",
       "0         NaN    2    2.0         NaN  278.027361  81077  0.2836    22   \n",
       "1  100.000000    3    4.0         NaN  368.778329  81077  0.2836    22   \n",
       "2   50.000000    4    6.0         NaN  488.972075  81077  0.2836    22   \n",
       "3   50.000000    5    9.0         NaN  648.025321  81077  0.2836    22   \n",
       "4   44.444444    6   13.0         NaN  858.264542  81077  0.2836    22   \n",
       "\n",
       "   Unnamed: 8    Italia    K.1  Alpha.1  Beta.1  Unnamed: 13  Unnamed: 14  \\\n",
       "0         NaN  2.023939  35000    0.238      43          NaN            2   \n",
       "1         NaN  2.567750  35000    0.238      43          NaN            3   \n",
       "2         NaN  3.257664  35000    0.238      43          NaN            4   \n",
       "3         NaN  4.132924  35000    0.238      43          NaN            5   \n",
       "4         NaN  5.243313  35000    0.238      43          NaN            6   \n",
       "\n",
       "   Unnamed: 15   Portugal   K.2  Alpha.2  Beta.2  \n",
       "0          2.0   3.939708  2900     0.33      22  \n",
       "1          4.0   5.477099  2900     0.33      22  \n",
       "2          6.0   7.612849  2900     0.33      22  \n",
       "3          9.0  10.578373  2900     0.33      22  \n",
       "4         13.0  14.693225  2900     0.33      22  "
      ]
     },
     "execution_count": 105,
     "metadata": {},
     "output_type": "execute_result"
    }
   ],
   "source": [
    "cov.head()"
   ]
  },
  {
   "cell_type": "code",
   "execution_count": 106,
   "metadata": {},
   "outputs": [],
   "source": [
    "casos = np.array(cov['Casos'])"
   ]
  },
  {
   "cell_type": "code",
   "execution_count": 107,
   "metadata": {},
   "outputs": [
    {
     "data": {
      "text/plain": [
       "array([   2.,    4.,    6.,    9.,   13.,   21.,   30.,   39.,   41.,\n",
       "         59.,   78.,  112.,  169.,  245.,  331.,  448.,  642.,  785.,\n",
       "       1020., 1280.,   nan,   nan,   nan,   nan,   nan,   nan,   nan,\n",
       "         nan,   nan,   nan,   nan,   nan,   nan,   nan,   nan,   nan,\n",
       "         nan,   nan,   nan,   nan,   nan,   nan,   nan,   nan,   nan,\n",
       "         nan,   nan,   nan,   nan,   nan,   nan,   nan,   nan,   nan,\n",
       "         nan,   nan])"
      ]
     },
     "execution_count": 107,
     "metadata": {},
     "output_type": "execute_result"
    }
   ],
   "source": [
    "casos"
   ]
  },
  {
   "cell_type": "code",
   "execution_count": null,
   "metadata": {},
   "outputs": [],
   "source": []
  },
  {
   "cell_type": "code",
   "execution_count": 6,
   "metadata": {},
   "outputs": [],
   "source": [
    "def deriv(X, t):\n",
    "    S, E, I, R = X \n",
    "    \n",
    "    b = r0*g\n",
    "    \n",
    "    dS = -b*S*I/N\n",
    "    dE = b*S*I/N - s*E\n",
    "    dI = s*E-g*I\n",
    "    dR = g*I\n",
    "    \n",
    "    return [dS, dE, dI, dR]"
   ]
  },
  {
   "cell_type": "code",
   "execution_count": null,
   "metadata": {},
   "outputs": [],
   "source": []
  },
  {
   "cell_type": "code",
   "execution_count": 105,
   "metadata": {},
   "outputs": [],
   "source": [
    "# Establish initial conditions\n",
    "\n",
    "m = pow(10,6)\n",
    "N = 11*m \n",
    "\n",
    "S = 11*m  \n",
    "I = 17\n",
    "E = 20*I\n",
    "R = 0\n",
    "\n",
    "s = 1/5.2\n",
    "g = 1/18 \n",
    "\n",
    "\n"
   ]
  },
  {
   "cell_type": "code",
   "execution_count": 106,
   "metadata": {},
   "outputs": [],
   "source": [
    "# Phase 1\n",
    "\n",
    "X = S, E, I, R\n",
    "\n",
    "r0 = 3.1\n",
    "\n",
    "phas1 = odeint(deriv, X, np.linspace(1,54, 54))\n",
    "phas1 = np.around(phas1)"
   ]
  },
  {
   "cell_type": "code",
   "execution_count": 107,
   "metadata": {},
   "outputs": [
    {
     "data": {
      "text/plain": [
       "array([1.0982159e+07, 4.9220000e+03, 7.5170000e+03, 5.7600000e+03])"
      ]
     },
     "execution_count": 107,
     "metadata": {},
     "output_type": "execute_result"
    }
   ],
   "source": [
    "phas1[-1]"
   ]
  },
  {
   "cell_type": "code",
   "execution_count": null,
   "metadata": {},
   "outputs": [],
   "source": []
  },
  {
   "cell_type": "code",
   "execution_count": 108,
   "metadata": {},
   "outputs": [],
   "source": [
    "# Phase 2\n",
    "\n",
    "X = phas1[-1]\n",
    "\n",
    "r0 = 2.6\n",
    "\n",
    "phas2 = odeint(deriv, X , np.linspace(1, 11, 11))\n",
    "phas2 = np.around(phas2)"
   ]
  },
  {
   "cell_type": "code",
   "execution_count": 109,
   "metadata": {},
   "outputs": [
    {
     "data": {
      "text/plain": [
       "array([1.096719e+07, 7.961000e+03, 1.367600e+04, 1.153000e+04])"
      ]
     },
     "execution_count": 109,
     "metadata": {},
     "output_type": "execute_result"
    }
   ],
   "source": [
    "phas2[-1]"
   ]
  },
  {
   "cell_type": "code",
   "execution_count": null,
   "metadata": {},
   "outputs": [],
   "source": []
  },
  {
   "cell_type": "code",
   "execution_count": 566,
   "metadata": {},
   "outputs": [],
   "source": [
    "# Phase 3\n",
    "\n",
    "X = phas2[-1]\n",
    "\n",
    "r0 = 1.9\n",
    "\n",
    "phas3 = odeint(deriv, X , np.linspace(1, 14, 14))\n",
    "phas3 = np.around(phas3)"
   ]
  },
  {
   "cell_type": "code",
   "execution_count": 567,
   "metadata": {},
   "outputs": [
    {
     "data": {
      "text/plain": [
       "array([10865415.,    24639.,    53053.,    57732.])"
      ]
     },
     "execution_count": 567,
     "metadata": {},
     "output_type": "execute_result"
    }
   ],
   "source": [
    "phas3[-1]"
   ]
  },
  {
   "cell_type": "code",
   "execution_count": null,
   "metadata": {},
   "outputs": [],
   "source": []
  },
  {
   "cell_type": "code",
   "execution_count": 568,
   "metadata": {},
   "outputs": [],
   "source": [
    "# Phase 4\n",
    "\n",
    "X = phas3[-1]\n",
    "\n",
    "r0 = 0.9\n",
    "\n",
    "phas4 = odeint(deriv, X , np.linspace(1, 10, 10))\n",
    "phas4 = np.around(phas4)"
   ]
  },
  {
   "cell_type": "code",
   "execution_count": 569,
   "metadata": {},
   "outputs": [
    {
     "data": {
      "text/plain": [
       "array([10840184.,    16473.,    58035.,    86147.])"
      ]
     },
     "execution_count": 569,
     "metadata": {},
     "output_type": "execute_result"
    }
   ],
   "source": [
    "phas4[-1]"
   ]
  },
  {
   "cell_type": "code",
   "execution_count": null,
   "metadata": {},
   "outputs": [],
   "source": []
  },
  {
   "cell_type": "code",
   "execution_count": null,
   "metadata": {},
   "outputs": [],
   "source": []
  },
  {
   "cell_type": "code",
   "execution_count": null,
   "metadata": {},
   "outputs": [],
   "source": []
  },
  {
   "cell_type": "code",
   "execution_count": null,
   "metadata": {},
   "outputs": [],
   "source": []
  },
  {
   "cell_type": "code",
   "execution_count": 111,
   "metadata": {},
   "outputs": [],
   "source": [
    "# Caso portugues\n",
    "\n",
    "m = pow(10,6)\n",
    "N = 10.5*m \n",
    "\n",
    "S = 10.5*m  \n",
    "I = 40\n",
    "E = 20*I\n",
    "R = 0\n",
    "\n",
    "s = 1/5.2\n",
    "g = 1/18 \n",
    "\n",
    "\n",
    "\n",
    "\n",
    "# Phase 1\n",
    "\n",
    "X = S, E, I, R\n",
    "\n",
    "r0 = 3.1\n",
    "\n",
    "phas1_por = odeint(deriv, X, np.linspace(1,20, 20))\n",
    "phas1_por = np.around(phas1_por)\n"
   ]
  },
  {
   "cell_type": "code",
   "execution_count": 112,
   "metadata": {},
   "outputs": [
    {
     "data": {
      "text/plain": [
       "array([1.0497299e+07, 1.0580000e+03, 1.6120000e+03, 8.7100000e+02])"
      ]
     },
     "execution_count": 112,
     "metadata": {},
     "output_type": "execute_result"
    }
   ],
   "source": [
    "phas1_por[-1]"
   ]
  },
  {
   "cell_type": "code",
   "execution_count": 113,
   "metadata": {
    "scrolled": true
   },
   "outputs": [
    {
     "data": {
      "text/plain": [
       "<BarContainer object of 20 artists>"
      ]
     },
     "execution_count": 113,
     "metadata": {},
     "output_type": "execute_result"
    },
    {
     "data": {
      "image/png": "[encoded data removed]",
      "text/plain": [
       "<Figure size 432x288 with 1 Axes>"
      ]
     },
     "metadata": {
      "needs_background": "light"
     },
     "output_type": "display_data"
    }
   ],
   "source": [
    " plt.bar(range(len(phas1_por[:,1])), phas1_por[:,1])"
   ]
  },
  {
   "cell_type": "code",
   "execution_count": 114,
   "metadata": {
    "scrolled": true
   },
   "outputs": [
    {
     "data": {
      "text/plain": [
       "<BarContainer object of 20 artists>"
      ]
     },
     "execution_count": 114,
     "metadata": {},
     "output_type": "execute_result"
    },
    {
     "data": {
      "image/png": "[encoded data removed]",
      "text/plain": [
       "<Figure size 432x288 with 1 Axes>"
      ]
     },
     "metadata": {
      "needs_background": "light"
     },
     "output_type": "display_data"
    }
   ],
   "source": [
    " plt.bar(range(len(phas1_por[:,2])), phas1_por[:,2])"
   ]
  },
  {
   "cell_type": "code",
   "execution_count": null,
   "metadata": {},
   "outputs": [],
   "source": []
  },
  {
   "cell_type": "code",
   "execution_count": 115,
   "metadata": {},
   "outputs": [],
   "source": [
    "# Phase 2\n",
    "\n",
    "X = phas1_por[-1]\n",
    "\n",
    "r0 = 2.5\n",
    "\n",
    "phas2_por = odeint(deriv, X , np.linspace(1, 6, 6))\n",
    "phas2_por = np.around(phas2_por)"
   ]
  },
  {
   "cell_type": "code",
   "execution_count": 116,
   "metadata": {},
   "outputs": [
    {
     "data": {
      "text/plain": [
       "array([1.0495982e+07, 1.2710000e+03, 2.1890000e+03, 1.3980000e+03])"
      ]
     },
     "execution_count": 116,
     "metadata": {},
     "output_type": "execute_result"
    }
   ],
   "source": [
    "phas2_por[-1]"
   ]
  },
  {
   "cell_type": "code",
   "execution_count": null,
   "metadata": {},
   "outputs": [],
   "source": []
  },
  {
   "cell_type": "code",
   "execution_count": 117,
   "metadata": {},
   "outputs": [],
   "source": [
    "# Phase 3\n",
    "\n",
    "X = phas2_por[-1]\n",
    "\n",
    "r0 = 1.9\n",
    "\n",
    "phas3_por = odeint(deriv, X , np.linspace(1, 5, 5))\n",
    "phas3_por = np.around(phas3_por)"
   ]
  },
  {
   "cell_type": "code",
   "execution_count": 118,
   "metadata": {},
   "outputs": [
    {
     "data": {
      "text/plain": [
       "array([1.0494962e+07, 1.3090000e+03, 2.6340000e+03, 1.9350000e+03])"
      ]
     },
     "execution_count": 118,
     "metadata": {},
     "output_type": "execute_result"
    }
   ],
   "source": [
    "phas3_por[-1]"
   ]
  },
  {
   "cell_type": "code",
   "execution_count": null,
   "metadata": {},
   "outputs": [],
   "source": []
  },
  {
   "cell_type": "code",
   "execution_count": 126,
   "metadata": {},
   "outputs": [],
   "source": [
    "# Phase 4\n",
    "\n",
    "X = phas3_por[-1]\n",
    "\n",
    "r0 = 0.9\n",
    "\n",
    "phas4_por = odeint(deriv, X , np.linspace(1, 45, 45))\n",
    "phas4_por = np.around(phas4_por)"
   ]
  },
  {
   "cell_type": "code",
   "execution_count": 127,
   "metadata": {},
   "outputs": [
    {
     "data": {
      "text/plain": [
       "array([2634., 2726., 2795., 2847., 2884., 2910., 2928., 2940., 2945.,\n",
       "       2947., 2946., 2942., 2936., 2929., 2920., 2911., 2901., 2890.,\n",
       "       2879., 2868., 2856., 2844., 2832., 2820., 2808., 2796., 2784.,\n",
       "       2772., 2760., 2748., 2736., 2724., 2712., 2700., 2688., 2676.,\n",
       "       2664., 2653., 2641., 2629., 2618., 2606., 2595., 2583., 2572.])"
      ]
     },
     "execution_count": 127,
     "metadata": {},
     "output_type": "execute_result"
    }
   ],
   "source": [
    "phas4_por[:,2]"
   ]
  },
  {
   "cell_type": "code",
   "execution_count": null,
   "metadata": {},
   "outputs": [],
   "source": []
  },
  {
   "cell_type": "code",
   "execution_count": 128,
   "metadata": {},
   "outputs": [],
   "source": [
    "# Phase 5\n",
    "\n",
    "X = phas4_por[-1]\n",
    "\n",
    "r0 = 0.9\n",
    "\n",
    "phas5_por = odeint(deriv, X , np.linspace(1, 90, 90))\n",
    "phas5_por = np.around(phas5_por)"
   ]
  },
  {
   "cell_type": "code",
   "execution_count": 129,
   "metadata": {},
   "outputs": [
    {
     "data": {
      "text/plain": [
       "array([2572., 2561., 2549., 2538., 2527., 2516., 2505., 2494., 2483.,\n",
       "       2472., 2461., 2450., 2439., 2428., 2417., 2407., 2396., 2385.,\n",
       "       2375., 2364., 2354., 2343., 2333., 2323., 2312., 2302., 2292.,\n",
       "       2282., 2272., 2262., 2252., 2242., 2232., 2222., 2212., 2202.,\n",
       "       2192., 2183., 2173., 2163., 2154., 2144., 2135., 2125., 2116.,\n",
       "       2106., 2097., 2088., 2078., 2069., 2060., 2051., 2042., 2033.,\n",
       "       2024., 2015., 2006., 1997., 1988., 1979., 1970., 1962., 1953.,\n",
       "       1944., 1936., 1927., 1918., 1910., 1901., 1893., 1884., 1876.,\n",
       "       1868., 1859., 1851., 1843., 1835., 1827., 1818., 1810., 1802.,\n",
       "       1794., 1786., 1778., 1770., 1762., 1755., 1747., 1739., 1731.])"
      ]
     },
     "execution_count": 129,
     "metadata": {},
     "output_type": "execute_result"
    }
   ],
   "source": [
    "phas5_por[:,2]"
   ]
  },
  {
   "cell_type": "code",
   "execution_count": null,
   "metadata": {},
   "outputs": [],
   "source": []
  },
  {
   "cell_type": "code",
   "execution_count": null,
   "metadata": {},
   "outputs": [],
   "source": []
  },
  {
   "cell_type": "code",
   "execution_count": 130,
   "metadata": {},
   "outputs": [
    {
     "data": {
      "text/plain": [
       "[9]"
      ]
     },
     "execution_count": 130,
     "metadata": {},
     "output_type": "execute_result"
    }
   ],
   "source": [
    "[i for i, j in enumerate(phas4_por[:,2]) if j == max(phas4_por[:,2])]"
   ]
  },
  {
   "cell_type": "code",
   "execution_count": null,
   "metadata": {},
   "outputs": [],
   "source": []
  },
  {
   "cell_type": "code",
   "execution_count": 131,
   "metadata": {},
   "outputs": [],
   "source": [
    "infectious = np.concatenate((phas1_por[:,2], phas2_por[:,2], phas3_por[:,2], phas4_por[:,2], phas5_por[:,2]))    "
   ]
  },
  {
   "cell_type": "code",
   "execution_count": 132,
   "metadata": {
    "scrolled": true
   },
   "outputs": [
    {
     "name": "stdout",
     "output_type": "stream",
     "text": [
      "[  40.  175.  284.  375.  453.  523.  589.  651.  713.  775.  839.  906.\n",
      "  976. 1051. 1129. 1213. 1303. 1399. 1502. 1612. 1612. 1725. 1838. 1952.\n",
      " 2069. 2189. 2189. 2308. 2420. 2528. 2634. 2634. 2726. 2795. 2847. 2884.\n",
      " 2910. 2928. 2940. 2945. 2947. 2946. 2942. 2936. 2929. 2920. 2911. 2901.\n",
      " 2890. 2879. 2868. 2856. 2844. 2832. 2820. 2808. 2796. 2784. 2772. 2760.\n",
      " 2748. 2736. 2724. 2712. 2700. 2688. 2676. 2664. 2653. 2641. 2629. 2618.\n",
      " 2606. 2595. 2583. 2572. 2572. 2561. 2549. 2538. 2527. 2516. 2505. 2494.\n",
      " 2483. 2472. 2461. 2450. 2439. 2428. 2417. 2407. 2396. 2385. 2375. 2364.\n",
      " 2354. 2343. 2333. 2323. 2312. 2302. 2292. 2282. 2272. 2262. 2252. 2242.\n",
      " 2232. 2222. 2212. 2202. 2192. 2183. 2173. 2163. 2154. 2144. 2135. 2125.\n",
      " 2116. 2106. 2097. 2088. 2078. 2069. 2060. 2051. 2042. 2033. 2024. 2015.\n",
      " 2006. 1997. 1988. 1979. 1970. 1962. 1953. 1944. 1936. 1927. 1918. 1910.\n",
      " 1901. 1893. 1884. 1876. 1868. 1859. 1851. 1843. 1835. 1827. 1818. 1810.\n",
      " 1802. 1794. 1786. 1778. 1770. 1762. 1755. 1747. 1739. 1731.]\n"
     ]
    }
   ],
   "source": [
    "print(infectious)"
   ]
  },
  {
   "cell_type": "code",
   "execution_count": null,
   "metadata": {},
   "outputs": [],
   "source": []
  },
  {
   "cell_type": "code",
   "execution_count": 135,
   "metadata": {},
   "outputs": [
    {
     "name": "stdout",
     "output_type": "stream",
     "text": [
      "<BarContainer object of 166 artists>\n"
     ]
    },
    {
     "data": {
      "image/png": "[encoded data removed]",
      "text/plain": [
       "<Figure size 432x288 with 1 Axes>"
      ]
     },
     "metadata": {
      "needs_background": "light"
     },
     "output_type": "display_data"
    }
   ],
   "source": [
    "colors = np.concatenate((['xkcd:magenta']*20, ['xkcd:grey']*6, ['xkcd:baby blue']*4, ['xkcd:light orange']*45, ['xkcd:light orange']*90))\n",
    "\n",
    "bar_graph = plt.bar(range(len(infectious)), infectious, color= colors)\n",
    "\n",
    "print(bar_graph)"
   ]
  },
  {
   "cell_type": "code",
   "execution_count": 73,
   "metadata": {},
   "outputs": [
    {
     "data": {
      "text/plain": [
       "<BarContainer object of 105 artists>"
      ]
     },
     "execution_count": 73,
     "metadata": {},
     "output_type": "execute_result"
    },
    {
     "data": {
      "image/png": "[encoded data removed]",
      "text/plain": [
       "<Figure size 432x288 with 1 Axes>"
      ]
     },
     "metadata": {
      "needs_background": "light"
     },
     "output_type": "display_data"
    }
   ],
   "source": [
    " plt.bar(range(len(infectious)), infectious)"
   ]
  },
  {
   "cell_type": "code",
   "execution_count": 1021,
   "metadata": {},
   "outputs": [
    {
     "data": {
      "text/plain": [
       "array([0., 0., 0., 0., 0., 0., 0., 0., 0., 0., 0., 0.])"
      ]
     },
     "execution_count": 1021,
     "metadata": {},
     "output_type": "execute_result"
    }
   ],
   "source": [
    "np.zeros(12)"
   ]
  },
  {
   "cell_type": "code",
   "execution_count": 108,
   "metadata": {},
   "outputs": [],
   "source": [
    "confirmados = np.concatenate((np.zeros(12), casos))"
   ]
  },
  {
   "cell_type": "code",
   "execution_count": null,
   "metadata": {},
   "outputs": [],
   "source": []
  },
  {
   "cell_type": "code",
   "execution_count": 109,
   "metadata": {},
   "outputs": [
    {
     "data": {
      "text/plain": [
       "<BarContainer object of 68 artists>"
      ]
     },
     "execution_count": 109,
     "metadata": {},
     "output_type": "execute_result"
    },
    {
     "data": {
      "image/png": "[encoded data removed]",
      "text/plain": [
       "<Figure size 432x288 with 1 Axes>"
      ]
     },
     "metadata": {
      "needs_background": "light"
     },
     "output_type": "display_data"
    }
   ],
   "source": [
    " plt.bar(range(len(confirmados)), confirmados)"
   ]
  },
  {
   "cell_type": "code",
   "execution_count": null,
   "metadata": {},
   "outputs": [],
   "source": []
  },
  {
   "cell_type": "code",
   "execution_count": 110,
   "metadata": {},
   "outputs": [
    {
     "data": {
      "image/png": "[encoded data removed]",
      "text/plain": [
       "<Figure size 432x288 with 1 Axes>"
      ]
     },
     "metadata": {
      "needs_background": "light"
     },
     "output_type": "display_data"
    }
   ],
   "source": [
    "plt.plot(infectious,'g*', confirmados, 'ro')\n",
    "plt.show()"
   ]
  },
  {
   "cell_type": "code",
   "execution_count": null,
   "metadata": {},
   "outputs": [],
   "source": []
  },
  {
   "cell_type": "code",
   "execution_count": null,
   "metadata": {},
   "outputs": [],
   "source": []
  },
  {
   "cell_type": "code",
   "execution_count": null,
   "metadata": {},
   "outputs": [],
   "source": []
  }
 ],
 "metadata": {
  "kernelspec": {
   "display_name": "Python 3",
   "language": "python",
   "name": "python3"
  },
  "language_info": {
   "codemirror_mode": {
    "name": "ipython",
    "version": 3
   },
   "file_extension": ".py",
   "mimetype": "text/x-python",
   "name": "python",
   "nbconvert_exporter": "python",
   "pygments_lexer": "ipython3",
   "version": "3.7.4"
  }
 },
 "nbformat": 4,
 "nbformat_minor": 2
}
