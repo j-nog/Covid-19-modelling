{
 "cells": [
  {
   "cell_type": "code",
   "execution_count": 148,
   "metadata": {},
   "outputs": [],
   "source": [
    "import numpy as np\n",
    "import pandas as pd\n",
    "\n",
    "from scipy.integrate import odeint\n",
    "import matplotlib.pyplot as plt\n",
    "import matplotlib\n",
    "\n",
    "import matplotlib.dates as mdates\n",
    "import datetime as dt\n",
    "\n",
    "from datetime import date\n"
   ]
  },
  {
   "cell_type": "code",
   "execution_count": null,
   "metadata": {},
   "outputs": [],
   "source": []
  },
  {
   "cell_type": "code",
   "execution_count": null,
   "metadata": {},
   "outputs": [],
   "source": []
  },
  {
   "cell_type": "code",
   "execution_count": null,
   "metadata": {},
   "outputs": [],
   "source": []
  },
  {
   "cell_type": "markdown",
   "metadata": {},
   "source": [
    "1. Importing the data"
   ]
  },
  {
   "cell_type": "code",
   "execution_count": null,
   "metadata": {},
   "outputs": [],
   "source": []
  },
  {
   "cell_type": "code",
   "execution_count": 149,
   "metadata": {},
   "outputs": [],
   "source": [
    "cov = pd.read_csv('corona2.csv')"
   ]
  },
  {
   "cell_type": "code",
   "execution_count": 150,
   "metadata": {
    "scrolled": true
   },
   "outputs": [
    {
     "data": {
      "text/html": [
       "<div>\n",
       "<style scoped>\n",
       "    .dataframe tbody tr th:only-of-type {\n",
       "        vertical-align: middle;\n",
       "    }\n",
       "\n",
       "    .dataframe tbody tr th {\n",
       "        vertical-align: top;\n",
       "    }\n",
       "\n",
       "    .dataframe thead th {\n",
       "        text-align: right;\n",
       "    }\n",
       "</style>\n",
       "<table border=\"1\" class=\"dataframe\">\n",
       "  <thead>\n",
       "    <tr style=\"text-align: right;\">\n",
       "      <th></th>\n",
       "      <th>%</th>\n",
       "      <th>Dia</th>\n",
       "      <th>Casos</th>\n",
       "      <th>Recuperados</th>\n",
       "      <th>Obitos</th>\n",
       "    </tr>\n",
       "  </thead>\n",
       "  <tbody>\n",
       "    <tr>\n",
       "      <th>0</th>\n",
       "      <td>NaN</td>\n",
       "      <td>2.0</td>\n",
       "      <td>2</td>\n",
       "      <td>0</td>\n",
       "      <td>0</td>\n",
       "    </tr>\n",
       "    <tr>\n",
       "      <th>1</th>\n",
       "      <td>100.000000</td>\n",
       "      <td>3.0</td>\n",
       "      <td>4</td>\n",
       "      <td>0</td>\n",
       "      <td>0</td>\n",
       "    </tr>\n",
       "    <tr>\n",
       "      <th>2</th>\n",
       "      <td>50.000000</td>\n",
       "      <td>4.0</td>\n",
       "      <td>6</td>\n",
       "      <td>0</td>\n",
       "      <td>0</td>\n",
       "    </tr>\n",
       "    <tr>\n",
       "      <th>3</th>\n",
       "      <td>50.000000</td>\n",
       "      <td>5.0</td>\n",
       "      <td>9</td>\n",
       "      <td>0</td>\n",
       "      <td>0</td>\n",
       "    </tr>\n",
       "    <tr>\n",
       "      <th>4</th>\n",
       "      <td>44.444444</td>\n",
       "      <td>6.0</td>\n",
       "      <td>13</td>\n",
       "      <td>0</td>\n",
       "      <td>0</td>\n",
       "    </tr>\n",
       "  </tbody>\n",
       "</table>\n",
       "</div>"
      ],
      "text/plain": [
       "            %  Dia  Casos  Recuperados  Obitos\n",
       "0         NaN  2.0      2            0       0\n",
       "1  100.000000  3.0      4            0       0\n",
       "2   50.000000  4.0      6            0       0\n",
       "3   50.000000  5.0      9            0       0\n",
       "4   44.444444  6.0     13            0       0"
      ]
     },
     "execution_count": 150,
     "metadata": {},
     "output_type": "execute_result"
    }
   ],
   "source": [
    "cov.head()"
   ]
  },
  {
   "cell_type": "code",
   "execution_count": 151,
   "metadata": {},
   "outputs": [],
   "source": [
    "casos_cum = np.array(cov['Casos'])[0:92]\n",
    "obitos = np.array(cov['Obitos'])[0:92]\n",
    "recuperados = np.array(cov['Recuperados'])[0:92]\n",
    "ativos = np.array(casos_cum - obitos - recuperados)\n"
   ]
  },
  {
   "cell_type": "code",
   "execution_count": 152,
   "metadata": {},
   "outputs": [
    {
     "data": {
      "text/plain": [
       "array([    2,     4,     6,     9,    13,    21,    30,    39,    41,\n",
       "          59,    78,   112,   168,   243,   328,   444,   637,   779,\n",
       "        1009,  1263,  1581,  2023,  2307,  2930,  3451,  4149,  5027,\n",
       "        5800,  6225,  7240,  8021,  8757,  9572, 10183, 10908, 11279,\n",
       "       11913, 12565, 13342, 14804, 15251, 15804, 16122, 16534, 17109,\n",
       "       17719, 17846, 18388, 18882, 19518, 19700, 20054, 20332, 20715,\n",
       "       21114, 21451, 21561, 21804, 21881, 22184, 22333, 22496, 22550,\n",
       "       22749, 22885, 23017, 23352, 23732, 23781, 23897, 23986, 23737,\n",
       "       23775, 23937, 24065, 23785, 23182, 21548, 21754, 21945, 22183,\n",
       "       21321, 21464, 11758, 11636, 11569, 11587, 11590, 11652, 11621,\n",
       "       11681, 11724])"
      ]
     },
     "execution_count": 152,
     "metadata": {},
     "output_type": "execute_result"
    }
   ],
   "source": [
    "ativos"
   ]
  },
  {
   "cell_type": "code",
   "execution_count": 153,
   "metadata": {},
   "outputs": [],
   "source": [
    "casos_novos=[2]\n",
    "\n",
    "for i in range(len(casos_cum)-1):\n",
    "    casos_novos.append(casos_cum[i+1]-casos_cum[i])\n",
    "    \n",
    "casos_novos=np.array(casos_novos)    "
   ]
  },
  {
   "cell_type": "code",
   "execution_count": 154,
   "metadata": {},
   "outputs": [
    {
     "data": {
      "text/plain": [
       "array([   2,    2,    2,    3,    4,    8,    9,    9,    2,   18,   19,\n",
       "         34,   57,   76,   86,  117,  194,  143,  235,  260,  320,  460,\n",
       "        302,  633,  559,  714,  902,  792,  446, 1035,  808,  783,  852,\n",
       "        638,  754,  452,  712,  699,  815, 1516,  515,  598,  349,  514,\n",
       "        643,  750,  181,  663,  521,  657,  516,  603,  371,  444,  474,\n",
       "        412,  163,  295,  183,  368,  295,  203,   92,  242,  178,  480,\n",
       "        533,  553,  138,  175,   98,  234,  219,  187,  264,  227,  226,\n",
       "        173,  223,  228,  252,  288,  271,  152,  165,  219,  285,  304,\n",
       "        350,  257,  297,  200])"
      ]
     },
     "execution_count": 154,
     "metadata": {},
     "output_type": "execute_result"
    }
   ],
   "source": [
    "casos_novos"
   ]
  },
  {
   "cell_type": "code",
   "execution_count": null,
   "metadata": {},
   "outputs": [],
   "source": []
  },
  {
   "cell_type": "code",
   "execution_count": null,
   "metadata": {},
   "outputs": [],
   "source": []
  },
  {
   "cell_type": "code",
   "execution_count": null,
   "metadata": {},
   "outputs": [],
   "source": []
  },
  {
   "cell_type": "markdown",
   "metadata": {},
   "source": [
    "2. Moving average trend for the new daily cases"
   ]
  },
  {
   "cell_type": "code",
   "execution_count": null,
   "metadata": {},
   "outputs": [],
   "source": []
  },
  {
   "cell_type": "code",
   "execution_count": 155,
   "metadata": {},
   "outputs": [],
   "source": [
    "from math import floor\n",
    "\n",
    "def cma(L, n):\n",
    "\n",
    "    f = floor(n/2)\n",
    "    l = len(L)\n",
    "    \n",
    "    n_cma = []\n",
    "    \n",
    "    for i in range(f):\n",
    "        n_cma.append(np.mean(L[0 : 2*i+1]))\n",
    "    \n",
    "    for i in range(l-2*f):\n",
    "        n_cma.append(np.mean(L[i : i+2*f+1]))\n",
    "        \n",
    "    for i in range(f):\n",
    "        n_cma.append(np.mean(L[l-2*(f-1-i)-1 : l]))\n",
    "        \n",
    "        \n",
    "    return n_cma    "
   ]
  },
  {
   "cell_type": "code",
   "execution_count": null,
   "metadata": {},
   "outputs": [],
   "source": []
  },
  {
   "cell_type": "code",
   "execution_count": 156,
   "metadata": {},
   "outputs": [
    {
     "data": {
      "image/png": "[encoded data removed]",
      "text/plain": [
       "<Figure size 1440x720 with 1 Axes>"
      ]
     },
     "metadata": {
      "needs_background": "light"
     },
     "output_type": "display_data"
    }
   ],
   "source": [
    "\n",
    "l= len(casos_novos)\n",
    "\n",
    "aver = cma(casos_novos, 13)\n",
    "\n",
    "fig = plt.figure(figsize=(20,10))\n",
    "ax = fig.gca()\n",
    "\n",
    "ax.spines[\"top\"].set_visible(False)\n",
    "ax.spines[\"right\"].set_visible(False)\n",
    "\n",
    "march_2 = dt.date(2020,3,2)\n",
    "then = march_2 + dt.timedelta(days=260)\n",
    "t = mdates.drange(march_2,then,dt.timedelta(days=1))\n",
    "t = t.astype('int32')\n",
    "\n",
    "ax.xaxis.set_major_formatter(mdates.DateFormatter('%m-%d'))\n",
    "ax.xaxis.set_major_locator(mdates.DayLocator([2]))\n",
    "\n",
    "\n",
    "plt.plot(t[0:92], aver,'b', linewidth=3.0)\n",
    "plt.scatter(t[0:92], casos_novos, s=30, color='red', marker='o')\n",
    "\n",
    "\n",
    "plt.ylabel('Número de casos')\n",
    "plt.yticks([0, 250, 500, 750, 1000, 1250, 1500])\n",
    "\n",
    "\n",
    "plt.title('Novos casos confirmados por dia')\n",
    "\n",
    "plt.show()"
   ]
  },
  {
   "cell_type": "code",
   "execution_count": 157,
   "metadata": {},
   "outputs": [
    {
     "data": {
      "text/plain": [
       "92"
      ]
     },
     "execution_count": 157,
     "metadata": {},
     "output_type": "execute_result"
    }
   ],
   "source": [
    "len(aver)"
   ]
  },
  {
   "cell_type": "code",
   "execution_count": 158,
   "metadata": {},
   "outputs": [
    {
     "data": {
      "text/plain": [
       "92"
      ]
     },
     "execution_count": 158,
     "metadata": {},
     "output_type": "execute_result"
    }
   ],
   "source": [
    "len(casos_novos)"
   ]
  },
  {
   "cell_type": "code",
   "execution_count": 159,
   "metadata": {},
   "outputs": [
    {
     "data": {
      "text/plain": [
       "200.0"
      ]
     },
     "execution_count": 159,
     "metadata": {},
     "output_type": "execute_result"
    }
   ],
   "source": [
    "aver[-1]"
   ]
  },
  {
   "cell_type": "markdown",
   "metadata": {},
   "source": [
    "3. The model differential equations"
   ]
  },
  {
   "cell_type": "code",
   "execution_count": null,
   "metadata": {},
   "outputs": [],
   "source": []
  },
  {
   "cell_type": "code",
   "execution_count": 160,
   "metadata": {},
   "outputs": [],
   "source": [
    "# function with the model equations\n",
    "\n",
    "def deriv(X, t):\n",
    "    S, E, I_m, I_s, I_d, R_m, R_s, D = X \n",
    "    \n",
    "    \n",
    "    \n",
    "    lam = beta*(sigma*I_m + I_s)/(N-I_d)\n",
    "    \n",
    "    \n",
    "    \n",
    "    dS = -S*lam\n",
    "    dE = S*lam - alpha*E\n",
    "    dI_m = p*alpha*E - gamma_m*I_m\n",
    "    dI_s = (1-p)*alpha*E - mu*I_s\n",
    "    dI_d = mu*I_s - gamma_s*I_d - eta*I_d\n",
    "    \n",
    "    dR_m = gamma_m*I_m\n",
    "    dR_s = gamma_s*I_d\n",
    "    dD = eta*I_d\n",
    "    \n",
    "    \n",
    "    return [dS, dE, dI_m, dI_s, dI_d, dR_m, dR_s, dD]"
   ]
  },
  {
   "cell_type": "code",
   "execution_count": null,
   "metadata": {},
   "outputs": [],
   "source": []
  },
  {
   "cell_type": "code",
   "execution_count": 161,
   "metadata": {},
   "outputs": [],
   "source": [
    "# Initial conditions for the parameters\n",
    "\n",
    "alpha = 1/4\n",
    "mu = 1/5\n",
    "\n",
    "gamma_m = 1/7\n",
    "gamma_s = 1/14\n",
    "sigma = 0.5\n",
    "p = 0.8\n",
    "eta = 0.0032  #0.000940802# 0.00142#\n",
    "\n",
    "\n",
    "m = pow(10,6)\n",
    "N = 10.2*m\n",
    "c = 13.74\n"
   ]
  },
  {
   "cell_type": "code",
   "execution_count": null,
   "metadata": {},
   "outputs": [],
   "source": []
  },
  {
   "cell_type": "code",
   "execution_count": null,
   "metadata": {},
   "outputs": [],
   "source": []
  },
  {
   "cell_type": "code",
   "execution_count": null,
   "metadata": {},
   "outputs": [],
   "source": []
  },
  {
   "cell_type": "code",
   "execution_count": 162,
   "metadata": {},
   "outputs": [
    {
     "name": "stdout",
     "output_type": "stream",
     "text": [
      "(4.85, 30.0)\n"
     ]
    }
   ],
   "source": [
    "# Estimation of best parameters R_0 and I using least squares method \n",
    "    \n",
    "    \n",
    "I_m = 9.6\n",
    "I_s = 2.4\n",
    "I_d = 2\n",
    "E = 13.74*12\n",
    "R_m = 0\n",
    "R_s = 0\n",
    "D = 0\n",
    "S = 10.2*m - I_m - I_s - I_d - E - R_m - R_s - D\n",
    "    \n",
    "r_0 = 3\n",
    "\n",
    "\n",
    "    \n",
    "epsi = r_0/(c*(p*sigma/gamma_m + (1-p)/(mu)))\n",
    "    \n",
    "beta = c*epsi\n",
    "   \n",
    "    \n",
    "    \n",
    "X = S, E, I_m, I_s, I_d, R_m, R_s, D\n",
    "       \n",
    "    \n",
    "diag_prev = odeint(deriv, X, np.linspace(1,17, 17))\n",
    "diag_prev = np.around(diag_prev)\n",
    "   \n",
    "cum1 = diag_prev[:,4]+diag_prev[:,6]+diag_prev[:,7]\n",
    "            \n",
    "     \n",
    "d_0 = sum((cum1[:] - aver[0:17])**2)\n",
    "                                                 \n",
    "\n",
    "\n",
    "\n",
    "\n",
    "for r_0 in np.linspace(3,7, 81):\n",
    "                \n",
    "        \n",
    "        epsi = r_0/(c*(p*sigma/gamma_m + (1-p)/mu))\n",
    "\n",
    "        beta = c*epsi\n",
    "    \n",
    "        for I in np.linspace(5, 40, 36):\n",
    "\n",
    "    \n",
    "            I_m = 0.8*I\n",
    "            I_s = 0.2*I\n",
    "            E = 13.74*I\n",
    "\n",
    "            X = S, E, I_m, I_s, I_d, R_m, R_s, D\n",
    "    \n",
    "    \n",
    "            diag_prev = odeint(deriv, X, np.linspace(1,17,17))\n",
    "            diag_prev = np.around(diag_prev)\n",
    "            \n",
    "            cum1 = diag_prev[:,4]+diag_prev[:,6]+diag_prev[:,7]\n",
    "            \n",
    "            cum1 = np.append([0], cum1)\n",
    "    \n",
    "            dist = sum((cum1[1:]-cum1[:-1]- aver[0:17])**2)\n",
    "            if dist < d_0:\n",
    "                d_0 = dist\n",
    "                param = r_0, I\n",
    "                c1 = cum1\n",
    "      \n",
    "    \n",
    "print(param) "
   ]
  },
  {
   "cell_type": "code",
   "execution_count": 163,
   "metadata": {},
   "outputs": [
    {
     "data": {
      "text/plain": [
       "array([  0.,   2.,   5.,  11.,  19.,  30.,  44.,  62.,  85., 113., 149.,\n",
       "       194., 251., 324., 415., 530., 678., 861.])"
      ]
     },
     "execution_count": 163,
     "metadata": {},
     "output_type": "execute_result"
    }
   ],
   "source": [
    "c1"
   ]
  },
  {
   "cell_type": "code",
   "execution_count": 164,
   "metadata": {},
   "outputs": [
    {
     "data": {
      "text/plain": [
       "[2.0,\n",
       " 2.0,\n",
       " 2.6,\n",
       " 4.285714285714286,\n",
       " 4.555555555555555,\n",
       " 7.090909090909091,\n",
       " 13.0,\n",
       " 18.692307692307693,\n",
       " 25.153846153846153,\n",
       " 34.0,\n",
       " 48.69230769230769,\n",
       " 59.38461538461539,\n",
       " 76.84615384615384,\n",
       " 96.15384615384616,\n",
       " 120.07692307692308,\n",
       " 155.30769230769232,\n",
       " 177.15384615384616]"
      ]
     },
     "execution_count": 164,
     "metadata": {},
     "output_type": "execute_result"
    }
   ],
   "source": [
    "aver[0:17]"
   ]
  },
  {
   "cell_type": "code",
   "execution_count": 165,
   "metadata": {},
   "outputs": [
    {
     "name": "stdout",
     "output_type": "stream",
     "text": [
      "[  2.   1.   3.   4.   5.   7.  10.  12.  17.  24.  30.  41.  56.  73.\n",
      "  99. 133. 178.]\n"
     ]
    }
   ],
   "source": [
    "I_m = 14.4\n",
    "I_s = 3.6\n",
    "I_d = 2\n",
    "E = 13.74*12\n",
    "R_m = 0\n",
    "R_s = 0\n",
    "D = 0\n",
    "S = 10.2*m - I_m - I_s - I_d - E - R_m - R_s - D\n",
    "    \n",
    "r_0 = 6.25\n",
    "\n",
    "\n",
    "    \n",
    "epsi = r_0/(c*(p*sigma/gamma_m + (1-p)/(mu)))\n",
    "    \n",
    "beta = c*epsi\n",
    "   \n",
    "        \n",
    "X = S, E, I_m, I_s, I_d, R_m, R_s, D\n",
    "       \n",
    "    \n",
    "diag_prev = odeint(deriv, X, np.linspace(1,17, 17))\n",
    "diag_prev = np.around(diag_prev)\n",
    "   \n",
    "    \n",
    "cum1 = diag_prev[:,4]+diag_prev[:,6]+diag_prev[:,7]\n",
    "cum1 = np.append([0], cum1)\n",
    "\n",
    "print(cum1[1:]-cum1[:-1])"
   ]
  },
  {
   "cell_type": "code",
   "execution_count": null,
   "metadata": {},
   "outputs": [],
   "source": []
  },
  {
   "cell_type": "code",
   "execution_count": null,
   "metadata": {},
   "outputs": [],
   "source": []
  },
  {
   "cell_type": "code",
   "execution_count": 166,
   "metadata": {},
   "outputs": [
    {
     "name": "stdout",
     "output_type": "stream",
     "text": [
      "0.4870000000000001\n"
     ]
    }
   ],
   "source": [
    "# Estimation of parameter for second stange (19 march - 27 march) using least squares method \n",
    "    \n",
    "    \n",
    "I_m = 28\n",
    "I_s = 7\n",
    "I_d = 2\n",
    "E = 13.74*35\n",
    "R_m = 0\n",
    "R_s = 0\n",
    "D = 0\n",
    "S = 10.2*m - I_m - I_s - I_d - E - R_m - R_s - D\n",
    "    \n",
    "r_0 = 4.75\n",
    "c = 13.74\n",
    "\n",
    "    \n",
    "epsi = r_0/(c*(p*sigma/gamma_m + (1-p)/(mu)))\n",
    "  \n",
    "beta = c*epsi\n",
    "    \n",
    "    \n",
    "    \n",
    "X = S, E, I_m, I_s, I_d, R_m, R_s, D\n",
    "       \n",
    "    \n",
    "phas1 = odeint(deriv, X, np.linspace(1, 17, 17))\n",
    "phas1 = np.around(phas1)   \n",
    "\n",
    "\n",
    "X = phas1[-1]    \n",
    "    \n",
    "d = 10\n",
    "\n",
    "\n",
    "for r in np.linspace(0.1,1,201):\n",
    "\n",
    "        \n",
    "    beta = r*c*epsi\n",
    "\n",
    "\n",
    "    phas2 = odeint(deriv, X, np.linspace(1,11,11))\n",
    "    phas2 = np.around(phas2)\n",
    "    \n",
    "    cum2 = phas2[:,4]+phas2[:,6]+phas2[:,7]\n",
    "        \n",
    "\n",
    "    dist = sum((np.log(cum2[1:]-cum2[:-1]) - np.log(aver[17:27]))**2)\n",
    "\n",
    "    if dist<d:\n",
    "        d = dist\n",
    "        red1 = r\n",
    "        c2 = cum2\n",
    "        \n",
    "print(red1) "
   ]
  },
  {
   "cell_type": "code",
   "execution_count": 167,
   "metadata": {},
   "outputs": [
    {
     "data": {
      "text/plain": [
       "array([ 958., 1213., 1533., 1936., 2444., 3083., 3886., 4895., 6164.,\n",
       "       7757., 9758.])"
      ]
     },
     "execution_count": 167,
     "metadata": {},
     "output_type": "execute_result"
    }
   ],
   "source": [
    "cum2"
   ]
  },
  {
   "cell_type": "code",
   "execution_count": 168,
   "metadata": {},
   "outputs": [
    {
     "data": {
      "text/plain": [
       "7.051319648093841"
      ]
     },
     "execution_count": 168,
     "metadata": {},
     "output_type": "execute_result"
    }
   ],
   "source": [
    "(7/13.64)*13.74"
   ]
  },
  {
   "cell_type": "code",
   "execution_count": null,
   "metadata": {},
   "outputs": [],
   "source": []
  },
  {
   "cell_type": "code",
   "execution_count": 169,
   "metadata": {},
   "outputs": [
    {
     "name": "stdout",
     "output_type": "stream",
     "text": [
      "0.17\n"
     ]
    }
   ],
   "source": [
    "# Estimation of reduction on contact rate for third stange (28 march - 6 April ) using least squares method \n",
    "\n",
    "\n",
    "I_m = 28\n",
    "I_s = 7\n",
    "I_d = 2\n",
    "E = 13.74*35\n",
    "R_m = 0\n",
    "R_s = 0\n",
    "D = 0\n",
    "S = 10.2*m - I_m - I_s - I_d - E - R_m - R_s - D\n",
    "    \n",
    "r_0 = 4.75\n",
    "c = 13.74\n",
    "\n",
    "\n",
    "    \n",
    "epsi = r_0/(c*(p*sigma/gamma_m + (1-p)/(mu)))\n",
    "  \n",
    "beta = c*epsi\n",
    "   \n",
    "    \n",
    "    \n",
    "X = S, E, I_m, I_s, I_d, R_m, R_s, D\n",
    "       \n",
    "       \n",
    "phas1 = odeint(deriv, X, np.linspace(1,17, 17))\n",
    "phas1 = np.around(phas1)   \n",
    "\n",
    "X = phas1[-1]    \n",
    "\n",
    "\n",
    "beta = red1*c*epsi\n",
    "\n",
    "phas2 = odeint(deriv, X, np.linspace(1,11,11))\n",
    "phas2 = np.around(phas2)\n",
    "\n",
    "X = phas2[-1]\n",
    "\n",
    "\n",
    "d = 10\n",
    "\n",
    "\n",
    "for r in np.linspace(0,1,201):\n",
    "\n",
    "    \n",
    "    beta = r*c*epsi\n",
    "\n",
    "\n",
    "    phas3 = odeint(deriv, X, np.linspace(1,11,11))\n",
    "    phas3 = np.around(phas3)\n",
    "    \n",
    "    cum3 = phas3[:,4]+phas3[:,6]+phas3[:,7]\n",
    "        \n",
    "\n",
    "\n",
    "    dist = sum((np.log(cum3[1:]-cum3[:-1]) - np.log(aver[27:37]))**2)\n",
    "\n",
    "    if dist<d:\n",
    "        d = dist\n",
    "        red2 = r\n",
    "        c3 = cum3\n",
    "        \n",
    "print(red2) "
   ]
  },
  {
   "cell_type": "code",
   "execution_count": 170,
   "metadata": {},
   "outputs": [
    {
     "data": {
      "text/plain": [
       "array([ 5460.,  6227.,  7138.,  8263.,  9673., 11442., 13667., 16463.,\n",
       "       19970., 24363., 29856.])"
      ]
     },
     "execution_count": 170,
     "metadata": {},
     "output_type": "execute_result"
    }
   ],
   "source": [
    "cum3"
   ]
  },
  {
   "cell_type": "code",
   "execution_count": 171,
   "metadata": {},
   "outputs": [
    {
     "data": {
      "text/plain": [
       "0.8075000000000001"
      ]
     },
     "execution_count": 171,
     "metadata": {},
     "output_type": "execute_result"
    }
   ],
   "source": [
    "red2*r_0"
   ]
  },
  {
   "cell_type": "code",
   "execution_count": null,
   "metadata": {},
   "outputs": [],
   "source": []
  },
  {
   "cell_type": "code",
   "execution_count": 172,
   "metadata": {},
   "outputs": [
    {
     "name": "stdout",
     "output_type": "stream",
     "text": [
      "0.155\n"
     ]
    }
   ],
   "source": [
    "# Estimation of reduction on contact rate for third stange  using least squares method \n",
    "\n",
    "\n",
    "I_m = 28\n",
    "I_s = 7\n",
    "I_d = 2\n",
    "E = 13.74*35\n",
    "R_m = 0\n",
    "R_s = 0\n",
    "D = 0\n",
    "S = 10.2*m - I_m - I_s - I_d - E - R_m - R_s - D\n",
    "    \n",
    "r_0 = 4.75\n",
    "c = 13.74\n",
    "\n",
    "\n",
    "    \n",
    "epsi = r_0/(c*(p*sigma/gamma_m + (1-p)/(mu)))\n",
    "  \n",
    "beta = c*epsi\n",
    "   \n",
    "    \n",
    "    \n",
    "X = S, E, I_m, I_s, I_d, R_m, R_s, D\n",
    "       \n",
    "       \n",
    "phas1 = odeint(deriv, X, np.linspace(1,17, 17))\n",
    "phas1 = np.around(phas1)   \n",
    "\n",
    "X = phas1[-1]    \n",
    "\n",
    "\n",
    "beta = red1*c*epsi\n",
    "\n",
    "phas2 = odeint(deriv, X, np.linspace(1,11,11))\n",
    "phas2 = np.around(phas2)\n",
    "\n",
    "X = phas2[-1]\n",
    "\n",
    "beta = red2*c*epsi\n",
    "\n",
    "phas3 = odeint(deriv, X, np.linspace(1,11,11))\n",
    "phas3 = np.around(phas3)\n",
    "\n",
    "X = phas3[-1]\n",
    "\n",
    "\n",
    "\n",
    "d = 10\n",
    "\n",
    "\n",
    "for r in np.linspace(0,1,201):\n",
    "\n",
    "    \n",
    "    beta = r*c*epsi\n",
    "\n",
    "\n",
    "    phas4 = odeint(deriv, X, np.linspace(1,21,21))\n",
    "    phas4 = np.around(phas4)\n",
    "    \n",
    "    cum4 = phas4[:,4]+phas4[:,6]+phas4[:,7]\n",
    "        \n",
    "\n",
    "\n",
    "    dist = sum((np.log(cum4[1:]-cum4[:-1]) - np.log(aver[37:57]))**2)\n",
    "\n",
    "    if dist<d:\n",
    "        d = dist\n",
    "        red3 = r\n",
    "        c3 = cum3\n",
    "        \n",
    "print(red3) "
   ]
  },
  {
   "cell_type": "code",
   "execution_count": null,
   "metadata": {},
   "outputs": [],
   "source": []
  },
  {
   "cell_type": "code",
   "execution_count": null,
   "metadata": {},
   "outputs": [],
   "source": []
  },
  {
   "cell_type": "code",
   "execution_count": null,
   "metadata": {},
   "outputs": [],
   "source": []
  },
  {
   "cell_type": "code",
   "execution_count": null,
   "metadata": {},
   "outputs": [],
   "source": []
  },
  {
   "cell_type": "code",
   "execution_count": 173,
   "metadata": {},
   "outputs": [
    {
     "name": "stdout",
     "output_type": "stream",
     "text": [
      "0.17\n"
     ]
    }
   ],
   "source": [
    "\n",
    "    \n",
    "I_m = 28\n",
    "I_s = 7\n",
    "I_d = 2\n",
    "E = 13.74*35\n",
    "R_m = 0\n",
    "R_s = 0\n",
    "D = 0\n",
    "S = 10.2*m - I_m - I_s - I_d - E - R_m - R_s - D\n",
    "    \n",
    "r_0 = 4.75\n",
    "c = 13.74\n",
    "\n",
    "    \n",
    "epsi = r_0/(c*(p*sigma/gamma_m+(1-p)/(mu)))\n",
    "  \n",
    "beta = c*epsi\n",
    "\n",
    "\n",
    "\n",
    "X = S, E, I_m, I_s, I_d, R_m, R_s, D\n",
    "\n",
    "\n",
    "phas1 = odeint(deriv, X, np.linspace(1,17, 17))\n",
    "phas1 = np.around(phas1)   \n",
    "\n",
    "X = phas1[-1]    \n",
    "\n",
    "\n",
    "beta = red1*c*epsi\n",
    "\n",
    "phas2 = odeint(deriv, X, np.linspace(1,11,11))\n",
    "phas2 = np.around(phas2)\n",
    "\n",
    "X = phas2[-1]\n",
    "\n",
    "\n",
    "beta = red2*c*epsi\n",
    "\n",
    "phas3 = odeint(deriv, X, np.linspace(1,11,11))\n",
    "phas3 = np.around(phas3)\n",
    "\n",
    "X = phas3[-1]\n",
    "\n",
    "beta = red3*c*epsi\n",
    "\n",
    "phas4 = odeint(deriv, X, np.linspace(1,21,21))\n",
    "phas4 = np.around(phas4)\n",
    "\n",
    "\n",
    "X = phas4[-1]\n",
    "\n",
    "d = 10**10\n",
    "\n",
    "red4=1\n",
    "\n",
    "for r in np.linspace(0,1,201):\n",
    "\n",
    "        \n",
    "    beta = r*c*epsi\n",
    "\n",
    "\n",
    "    phas5 = odeint(deriv, X, np.linspace(1,36,36))\n",
    "    phas5 = np.around(phas5)\n",
    "    \n",
    "    cum5 = phas5[:,4]+phas5[:,6]+phas5[:,7]\n",
    "    #print(np.log(cum4[1:]-cum4[:-1]))  \n",
    "    #print(np.log(aver[57:80]))\n",
    "\n",
    "    dist = sum((np.log(cum5[1:]-cum5[:-1]) - np.log(aver[57:92]))**2)\n",
    "    #print(dist)\n",
    "    \n",
    "    if dist<d:\n",
    "        d = dist\n",
    "        red4 = r\n",
    "        \n",
    "print(red4) "
   ]
  },
  {
   "cell_type": "code",
   "execution_count": null,
   "metadata": {},
   "outputs": [],
   "source": []
  },
  {
   "cell_type": "code",
   "execution_count": null,
   "metadata": {},
   "outputs": [],
   "source": []
  },
  {
   "cell_type": "code",
   "execution_count": 174,
   "metadata": {
    "scrolled": true
   },
   "outputs": [
    {
     "name": "stdout",
     "output_type": "stream",
     "text": [
      "0.12257718532138208 1.6842105263157898\n"
     ]
    },
    {
     "data": {
      "image/png": "[encoded data removed]",
      "text/plain": [
       "<Figure size 432x288 with 1 Axes>"
      ]
     },
     "metadata": {
      "needs_background": "light"
     },
     "output_type": "display_data"
    },
    {
     "data": {
      "image/png": "[encoded data removed]",
      "text/plain": [
       "<Figure size 432x288 with 1 Axes>"
      ]
     },
     "metadata": {
      "needs_background": "light"
     },
     "output_type": "display_data"
    },
    {
     "data": {
      "image/png": "[encoded data removed]",
      "text/plain": [
       "<Figure size 432x288 with 1 Axes>"
      ]
     },
     "metadata": {
      "needs_background": "light"
     },
     "output_type": "display_data"
    },
    {
     "data": {
      "image/png": "[encoded data removed]",
      "text/plain": [
       "<Figure size 432x288 with 1 Axes>"
      ]
     },
     "metadata": {
      "needs_background": "light"
     },
     "output_type": "display_data"
    }
   ],
   "source": [
    "# Caso sem qualquer medida de mitigação\n",
    "\n",
    "  \n",
    "I_m = 9\n",
    "I_s = 3\n",
    "I_d = 2\n",
    "E = 13.74*(I_m + I_s)\n",
    "R_m = 0\n",
    "R_s = 0\n",
    "D = 0\n",
    "S = 10.2*m - I_m - I_s - I_d - E - R_m - R_s - D\n",
    "\n",
    "\n",
    "\n",
    "\n",
    "# Constantes de fase\n",
    "\n",
    "r_0 = 6.4\n",
    "\n",
    "\n",
    "epsi = r_0/(c*(p*sigma/gamma_m + (1-p)/mu))\n",
    "\n",
    "beta = c*epsi\n",
    "\n",
    "print(epsi, beta)\n",
    "\n",
    "\n",
    "\n",
    "# Solução do sistema de equações diferenciais\n",
    "\n",
    "X = S, E, I_m, I_s, I_d, R_m, R_s, D\n",
    "\n",
    "\n",
    "phas1_por = odeint(deriv, X, np.linspace(1, 24, 24))\n",
    "phas1_por = np.around(phas1_por)\n",
    "\n",
    "\n",
    "plt.plot(np.log(phas1_por[:,4]),'g', np.log(ativos), 'ro')\n",
    "plt.show()\n",
    "\n",
    "\n",
    "plt.plot(phas1_por[:,4],'g', ativos, 'ro')\n",
    "plt.show()\n",
    "\n",
    "\n",
    "plt.plot(phas1_por[:,2]+phas1_por[:,3], 'bo')\n",
    "plt.show()\n",
    "\n",
    "\n",
    "plt.plot(phas1_por[:,7],'b')\n",
    "plt.show()"
   ]
  },
  {
   "cell_type": "code",
   "execution_count": null,
   "metadata": {},
   "outputs": [],
   "source": []
  },
  {
   "cell_type": "code",
   "execution_count": null,
   "metadata": {},
   "outputs": [],
   "source": []
  },
  {
   "cell_type": "code",
   "execution_count": 175,
   "metadata": {},
   "outputs": [
    {
     "data": {
      "image/png": "[encoded data removed]",
      "text/plain": [
       "<Figure size 432x288 with 1 Axes>"
      ]
     },
     "metadata": {
      "needs_background": "light"
     },
     "output_type": "display_data"
    },
    {
     "data": {
      "image/png": "[encoded data removed]",
      "text/plain": [
       "<Figure size 432x288 with 1 Axes>"
      ]
     },
     "metadata": {
      "needs_background": "light"
     },
     "output_type": "display_data"
    },
    {
     "data": {
      "image/png": "[encoded data removed]",
      "text/plain": [
       "<Figure size 432x288 with 1 Axes>"
      ]
     },
     "metadata": {
      "needs_background": "light"
     },
     "output_type": "display_data"
    }
   ],
   "source": [
    "diagnosed = phas1[:,4]\n",
    "cum = []\n",
    "\n",
    "for i in range(len(diagnosed)): \n",
    "    cum.append(sum(diagnosed[0:i]))\n",
    "    \n",
    "    \n",
    "real = phas1[:,2] + phas1[:,3]    \n",
    "    \n",
    "cum_real = []    \n",
    "for i in range(len(diagnosed)): \n",
    "    cum_real.append(sum(real[0:i]))    \n",
    "\n",
    "\n",
    "dead = eta * diagnosed\n",
    "cum_dead = []\n",
    "for i in range(len(diagnosed)): \n",
    "    cum_dead.append(sum(dead[0:i])) \n",
    "\n",
    "\n",
    "\n",
    "    \n",
    "plt.plot(cum,'g*', casos_novos, 'ro')\n",
    "plt.show()\n",
    "\n",
    "plt.plot(cum_real,'g*')\n",
    "plt.show()\n",
    "\n",
    "plt.plot(cum_dead,'b*')\n",
    "plt.show()"
   ]
  },
  {
   "cell_type": "code",
   "execution_count": null,
   "metadata": {},
   "outputs": [],
   "source": []
  },
  {
   "cell_type": "code",
   "execution_count": null,
   "metadata": {},
   "outputs": [],
   "source": []
  },
  {
   "cell_type": "code",
   "execution_count": null,
   "metadata": {},
   "outputs": [],
   "source": []
  },
  {
   "cell_type": "code",
   "execution_count": 177,
   "metadata": {
    "scrolled": false
   },
   "outputs": [
    {
     "data": {
      "image/png": "[encoded data removed]",
      "text/plain": [
       "<Figure size 1440x720 with 1 Axes>"
      ]
     },
     "metadata": {
      "needs_background": "light"
     },
     "output_type": "display_data"
    }
   ],
   "source": [
    "# Caso com medida de mitigação\n",
    "\n",
    "\n",
    "I_m = 28\n",
    "I_s = 7\n",
    "I_d = 2\n",
    "E = 13.74*(I_m + I_s)\n",
    "R_m = 0\n",
    "R_s = 0\n",
    "D = 0\n",
    "S = 10.2*m - I_m - I_s - I_d - E - R_m - R_s - D  \n",
    "\n",
    "\n",
    "\n",
    "\n",
    "# Fase 1\n",
    "\n",
    "\n",
    "r_0 = 4.75\n",
    "\n",
    "c = 13.74\n",
    "\n",
    "epsi = r_0/(c*(p*sigma/gamma_m + (1-p)/mu))\n",
    "\n",
    "beta = c*epsi\n",
    "\n",
    "\n",
    "X = S, E, I_m, I_s, I_d, R_m, R_s, D\n",
    "\n",
    "\n",
    "phas1 = odeint(deriv, X, np.linspace(1,17,17))\n",
    "phas1 = np.around(phas1)\n",
    "\n",
    "\n",
    "cum_1 = phas1[:,4]+phas1[:,6]+phas1[:,7]\n",
    "\n",
    "\n",
    "\n",
    "\n",
    "# Fase 2\n",
    "\n",
    "\n",
    "beta = red1*c*epsi\n",
    "\n",
    "\n",
    "X = phas1[-1]\n",
    "\n",
    "\n",
    "phas2 = odeint(deriv, X, np.linspace(1,11, 11))\n",
    "phas2 = np.around(phas2)\n",
    "\n",
    "\n",
    "cum_2 = phas2[1:,4]+phas2[1:,6]+phas2[1:,7]\n",
    "\n",
    "#caso2_novos = np.concatenate((phas1[:,4], phas2[1:,4]))\n",
    "\n",
    "\n",
    "#plt.plot(caso2_novos,'g', ativos, 'ro')\n",
    "#plt.show()\n",
    "\n",
    "\n",
    "\n",
    "\n",
    "# Fase 3\n",
    "\n",
    "\n",
    "beta = red2*c*epsi\n",
    "\n",
    "\n",
    "X = phas2[-1]\n",
    "\n",
    "\n",
    "phas3 = odeint(deriv, X, np.linspace(1,11, 11))\n",
    "phas3 = np.around(phas3)\n",
    "\n",
    "cum_3 = phas3[1:,4]+phas3[1:,6]+phas3[1:,7]\n",
    "\n",
    "\n",
    "\n",
    "\n",
    "# Fase 4\n",
    "\n",
    "\n",
    "beta = red3*c*epsi\n",
    "\n",
    "\n",
    "X = phas3[-1]\n",
    "\n",
    "\n",
    "phas4 = odeint(deriv, X, np.linspace(1,21,21))\n",
    "phas4 = np.around(phas4)\n",
    "\n",
    "cum_4 = phas4[1:,4]+phas4[1:,6]+phas4[1:,7]\n",
    "\n",
    "\n",
    "\n",
    "# Fase 5\n",
    "\n",
    "\n",
    "beta = red4*c*epsi\n",
    "\n",
    "\n",
    "X = phas4[-1]\n",
    "\n",
    "\n",
    "phas5 = odeint(deriv, X, np.linspace(1,36, 36))\n",
    "phas5 = np.around(phas5)\n",
    "\n",
    "cum_5 = phas5[1:,4]+phas5[1:,6]+phas5[1:,7]\n",
    "\n",
    "\n",
    "\n",
    "# Fase 6a\n",
    "\n",
    "\n",
    "beta = red4*c*epsi\n",
    "\n",
    "\n",
    "X = phas5[-1]\n",
    "\n",
    "\n",
    "phas6a = odeint(deriv, X, np.linspace(1,361, 361))\n",
    "phas6a = np.around(phas6a)\n",
    "\n",
    "cum_6a = phas6a[1:,4]+phas6a[1:,6]+phas6a[1:,7]\n",
    "\n",
    "\n",
    "\n",
    "\n",
    "# Fase 6b\n",
    "\n",
    "\n",
    "beta = 0.235*c*epsi\n",
    "\n",
    "\n",
    "X = phas5[-1]\n",
    "\n",
    "\n",
    "phas6b = odeint(deriv, X, np.linspace(1,361, 361))\n",
    "phas6b = np.around(phas6b)\n",
    "\n",
    "\n",
    "cum_6b = phas6b[1:,4]+phas6b[1:,6]+phas6b[1:,7]\n",
    "\n",
    "\n",
    "\n",
    "\n",
    "cum = np.concatenate((cum_1, cum_2, cum_3, cum_4, cum_5, cum_6a))\n",
    "\n",
    "\n",
    "novos_casos = cum[1:] - cum[:-1]\n",
    "\n",
    "\n",
    "novos_casos_max = cum_6b[1:] - cum_6b[:-1]\n",
    "\n",
    "\n",
    "\n",
    "\n",
    "\n",
    "\n",
    "\n",
    "fig = plt.figure(figsize=(20,10))\n",
    "ax = fig.gca()\n",
    "\n",
    "\n",
    "ax.spines[\"top\"].set_visible(False)\n",
    "ax.spines[\"right\"].set_visible(False)\n",
    "\n",
    "\n",
    "march_2 = dt.date(2020,3,2)\n",
    "then = march_2 + dt.timedelta(days=271+180)\n",
    "t = mdates.drange(march_2,then,dt.timedelta(days=1))\n",
    "t = t.astype('int32')\n",
    "\n",
    "ax.xaxis.set_major_formatter(mdates.DateFormatter('%m-%d'))\n",
    "ax.xaxis.set_major_locator(mdates.DayLocator([2]))\n",
    "\n",
    "\n",
    "dates = [date.fromordinal(t[0]), date.fromordinal(t[63]),   date.fromordinal(t[91]), date.fromordinal(t[192])]\n",
    "\n",
    "\n",
    "\n",
    "\n",
    "\n",
    "plt.plot(t, novos_casos, color='blue', linewidth=7)\n",
    "\n",
    "plt.plot(t[91:270+180], novos_casos_max, color='red', linewidth=7)\n",
    "\n",
    "plt.fill_between(t[91:270+180], novos_casos[91:270+180], novos_casos_max, color='lightcyan', alpha=0.5)\n",
    "\n",
    "\n",
    "plt.scatter(t[0:92], casos_novos[0:92], color='green', marker='o')\n",
    "\n",
    "\n",
    "\n",
    "\n",
    "\n",
    "font = {'family' : 'DejaVu Sans',\n",
    "        'weight' : 'bold',\n",
    "        'size'   : 15}\n",
    "\n",
    "matplotlib.rc('font', **font)\n",
    "\n",
    "\n",
    "#plt.xticks(dates)\n",
    "\n",
    "plt.ylabel('Número de casos')\n",
    "\n",
    "\n",
    "plt.title('Evolução do número de casos diários confirmados positivos')\n",
    "\n",
    "\n",
    "plt.show()\n",
    "\n",
    "\n",
    "#plt.scatter(t[0:92], aver, color='gray', marker = 'o')\n",
    "\n"
   ]
  },
  {
   "cell_type": "code",
   "execution_count": 178,
   "metadata": {},
   "outputs": [
    {
     "data": {
      "text/plain": [
       "974.0"
      ]
     },
     "execution_count": 178,
     "metadata": {},
     "output_type": "execute_result"
    }
   ],
   "source": [
    "max(novos_casos_max)"
   ]
  },
  {
   "cell_type": "code",
   "execution_count": 179,
   "metadata": {},
   "outputs": [
    {
     "data": {
      "text/plain": [
       "1.46875"
      ]
     },
     "execution_count": 179,
     "metadata": {},
     "output_type": "execute_result"
    }
   ],
   "source": [
    "0.235*6.25"
   ]
  },
  {
   "cell_type": "code",
   "execution_count": null,
   "metadata": {},
   "outputs": [],
   "source": []
  },
  {
   "cell_type": "code",
   "execution_count": 184,
   "metadata": {},
   "outputs": [
    {
     "ename": "NameError",
     "evalue": "name 'phas5a' is not defined",
     "output_type": "error",
     "traceback": [
      "\u001b[0;31m---------------------------------------------------------------------------\u001b[0m",
      "\u001b[0;31mNameError\u001b[0m                                 Traceback (most recent call last)",
      "\u001b[0;32m<ipython-input-184-2de4f525f9ca>\u001b[0m in \u001b[0;36m<module>\u001b[0;34m\u001b[0m\n\u001b[0;32m----> 1\u001b[0;31m \u001b[0mcasos_cum\u001b[0m \u001b[0;34m=\u001b[0m \u001b[0mnp\u001b[0m\u001b[0;34m.\u001b[0m\u001b[0mconcatenate\u001b[0m\u001b[0;34m(\u001b[0m\u001b[0;34m(\u001b[0m\u001b[0mphas1\u001b[0m\u001b[0;34m[\u001b[0m\u001b[0;34m:\u001b[0m\u001b[0;34m,\u001b[0m\u001b[0;36m4\u001b[0m\u001b[0;34m]\u001b[0m\u001b[0;34m+\u001b[0m\u001b[0mphas1\u001b[0m\u001b[0;34m[\u001b[0m\u001b[0;34m:\u001b[0m\u001b[0;34m,\u001b[0m\u001b[0;36m6\u001b[0m\u001b[0;34m]\u001b[0m\u001b[0;34m+\u001b[0m\u001b[0mphas1\u001b[0m\u001b[0;34m[\u001b[0m\u001b[0;34m:\u001b[0m\u001b[0;34m,\u001b[0m\u001b[0;36m7\u001b[0m\u001b[0;34m]\u001b[0m\u001b[0;34m,\u001b[0m \u001b[0mphas2\u001b[0m\u001b[0;34m[\u001b[0m\u001b[0;36m1\u001b[0m\u001b[0;34m:\u001b[0m\u001b[0;34m,\u001b[0m\u001b[0;36m4\u001b[0m\u001b[0;34m]\u001b[0m\u001b[0;34m+\u001b[0m\u001b[0mphas2\u001b[0m\u001b[0;34m[\u001b[0m\u001b[0;36m1\u001b[0m\u001b[0;34m:\u001b[0m\u001b[0;34m,\u001b[0m\u001b[0;36m6\u001b[0m\u001b[0;34m]\u001b[0m\u001b[0;34m+\u001b[0m\u001b[0mphas2\u001b[0m\u001b[0;34m[\u001b[0m\u001b[0;36m1\u001b[0m\u001b[0;34m:\u001b[0m\u001b[0;34m,\u001b[0m\u001b[0;36m7\u001b[0m\u001b[0;34m]\u001b[0m\u001b[0;34m,\u001b[0m \u001b[0mphas3\u001b[0m\u001b[0;34m[\u001b[0m\u001b[0;36m1\u001b[0m\u001b[0;34m:\u001b[0m\u001b[0;34m,\u001b[0m\u001b[0;36m4\u001b[0m\u001b[0;34m]\u001b[0m\u001b[0;34m+\u001b[0m\u001b[0mphas3\u001b[0m\u001b[0;34m[\u001b[0m\u001b[0;36m1\u001b[0m\u001b[0;34m:\u001b[0m\u001b[0;34m,\u001b[0m\u001b[0;36m6\u001b[0m\u001b[0;34m]\u001b[0m\u001b[0;34m+\u001b[0m\u001b[0mphas3\u001b[0m\u001b[0;34m[\u001b[0m\u001b[0;36m1\u001b[0m\u001b[0;34m:\u001b[0m\u001b[0;34m,\u001b[0m\u001b[0;36m7\u001b[0m\u001b[0;34m]\u001b[0m\u001b[0;34m,\u001b[0m \u001b[0mphas4\u001b[0m\u001b[0;34m[\u001b[0m\u001b[0;36m1\u001b[0m\u001b[0;34m:\u001b[0m\u001b[0;34m,\u001b[0m\u001b[0;36m4\u001b[0m\u001b[0;34m]\u001b[0m\u001b[0;34m+\u001b[0m\u001b[0mphas4\u001b[0m\u001b[0;34m[\u001b[0m\u001b[0;36m1\u001b[0m\u001b[0;34m:\u001b[0m\u001b[0;34m,\u001b[0m\u001b[0;36m6\u001b[0m\u001b[0;34m]\u001b[0m\u001b[0;34m+\u001b[0m\u001b[0mphas4\u001b[0m\u001b[0;34m[\u001b[0m\u001b[0;36m1\u001b[0m\u001b[0;34m:\u001b[0m\u001b[0;34m,\u001b[0m\u001b[0;36m7\u001b[0m\u001b[0;34m]\u001b[0m\u001b[0;34m,\u001b[0m \u001b[0mphas5a\u001b[0m\u001b[0;34m[\u001b[0m\u001b[0;36m1\u001b[0m\u001b[0;34m:\u001b[0m\u001b[0;34m,\u001b[0m\u001b[0;36m4\u001b[0m\u001b[0;34m]\u001b[0m\u001b[0;34m+\u001b[0m\u001b[0mphas5a\u001b[0m\u001b[0;34m[\u001b[0m\u001b[0;36m1\u001b[0m\u001b[0;34m:\u001b[0m\u001b[0;34m,\u001b[0m\u001b[0;36m6\u001b[0m\u001b[0;34m]\u001b[0m\u001b[0;34m+\u001b[0m\u001b[0mphas5a\u001b[0m\u001b[0;34m[\u001b[0m\u001b[0;36m1\u001b[0m\u001b[0;34m:\u001b[0m\u001b[0;34m,\u001b[0m\u001b[0;36m7\u001b[0m\u001b[0;34m]\u001b[0m\u001b[0;34m)\u001b[0m\u001b[0;34m)\u001b[0m\u001b[0;34m\u001b[0m\u001b[0;34m\u001b[0m\u001b[0m\n\u001b[0m\u001b[1;32m      2\u001b[0m \u001b[0mcasos_novos_diarios\u001b[0m \u001b[0;34m=\u001b[0m \u001b[0mcasos_cum\u001b[0m\u001b[0;34m[\u001b[0m\u001b[0;36m1\u001b[0m\u001b[0;34m:\u001b[0m\u001b[0;34m]\u001b[0m \u001b[0;34m-\u001b[0m \u001b[0mcasos_cum\u001b[0m\u001b[0;34m[\u001b[0m\u001b[0;34m:\u001b[0m\u001b[0;34m-\u001b[0m\u001b[0;36m1\u001b[0m\u001b[0;34m]\u001b[0m\u001b[0;34m\u001b[0m\u001b[0;34m\u001b[0m\u001b[0m\n\u001b[1;32m      3\u001b[0m \u001b[0;34m\u001b[0m\u001b[0m\n\u001b[1;32m      4\u001b[0m \u001b[0;34m\u001b[0m\u001b[0m\n\u001b[1;32m      5\u001b[0m \u001b[0mphas5b_novos\u001b[0m \u001b[0;34m=\u001b[0m \u001b[0mphas5b\u001b[0m\u001b[0;34m[\u001b[0m\u001b[0;36m2\u001b[0m\u001b[0;34m:\u001b[0m\u001b[0;34m,\u001b[0m\u001b[0;36m4\u001b[0m\u001b[0;34m]\u001b[0m\u001b[0;34m+\u001b[0m\u001b[0mphas5b\u001b[0m\u001b[0;34m[\u001b[0m\u001b[0;36m2\u001b[0m\u001b[0;34m:\u001b[0m\u001b[0;34m,\u001b[0m\u001b[0;36m6\u001b[0m\u001b[0;34m]\u001b[0m\u001b[0;34m+\u001b[0m\u001b[0mphas5b\u001b[0m\u001b[0;34m[\u001b[0m\u001b[0;36m2\u001b[0m\u001b[0;34m:\u001b[0m\u001b[0;34m,\u001b[0m\u001b[0;36m7\u001b[0m\u001b[0;34m]\u001b[0m\u001b[0;34m-\u001b[0m\u001b[0mphas5b\u001b[0m\u001b[0;34m[\u001b[0m\u001b[0;36m1\u001b[0m\u001b[0;34m:\u001b[0m\u001b[0;34m-\u001b[0m\u001b[0;36m1\u001b[0m\u001b[0;34m,\u001b[0m\u001b[0;36m4\u001b[0m\u001b[0;34m]\u001b[0m\u001b[0;34m-\u001b[0m\u001b[0mphas5b\u001b[0m\u001b[0;34m[\u001b[0m\u001b[0;36m1\u001b[0m\u001b[0;34m:\u001b[0m\u001b[0;34m-\u001b[0m\u001b[0;36m1\u001b[0m\u001b[0;34m,\u001b[0m\u001b[0;36m6\u001b[0m\u001b[0;34m]\u001b[0m\u001b[0;34m-\u001b[0m\u001b[0mphas5b\u001b[0m\u001b[0;34m[\u001b[0m\u001b[0;36m1\u001b[0m\u001b[0;34m:\u001b[0m\u001b[0;34m-\u001b[0m\u001b[0;36m1\u001b[0m\u001b[0;34m,\u001b[0m\u001b[0;36m7\u001b[0m\u001b[0;34m]\u001b[0m\u001b[0;34m\u001b[0m\u001b[0;34m\u001b[0m\u001b[0m\n",
      "\u001b[0;31mNameError\u001b[0m: name 'phas5a' is not defined"
     ]
    }
   ],
   "source": [
    "casos_cum = np.concatenate((phas1[:,4]+phas1[:,6]+phas1[:,7], phas2[1:,4]+phas2[1:,6]+phas2[1:,7], phas3[1:,4]+phas3[1:,6]+phas3[1:,7], phas4[1:,4]+phas4[1:,6]+phas4[1:,7], phas5a[1:,4]+phas5a[1:,6]+phas5a[1:,7]))\n",
    "casos_novos_diarios = casos_cum[1:] - casos_cum[:-1]\n",
    "\n",
    "\n",
    "phas5b_novos = phas5b[2:,4]+phas5b[2:,6]+phas5b[2:,7]-phas5b[1:-1,4]-phas5b[1:-1,6]-phas5b[1:-1,7]"
   ]
  },
  {
   "cell_type": "code",
   "execution_count": 181,
   "metadata": {},
   "outputs": [
    {
     "ename": "NameError",
     "evalue": "name 'casos_novos_diarios' is not defined",
     "output_type": "error",
     "traceback": [
      "\u001b[0;31m---------------------------------------------------------------------------\u001b[0m",
      "\u001b[0;31mNameError\u001b[0m                                 Traceback (most recent call last)",
      "\u001b[0;32m<ipython-input-181-34362131e6f2>\u001b[0m in \u001b[0;36m<module>\u001b[0;34m\u001b[0m\n\u001b[0;32m----> 1\u001b[0;31m \u001b[0mcasos_novos_diarios\u001b[0m\u001b[0;34m[\u001b[0m\u001b[0;34m:\u001b[0m\u001b[0;36m30\u001b[0m\u001b[0;34m]\u001b[0m\u001b[0;34m\u001b[0m\u001b[0;34m\u001b[0m\u001b[0m\n\u001b[0m",
      "\u001b[0;31mNameError\u001b[0m: name 'casos_novos_diarios' is not defined"
     ]
    }
   ],
   "source": [
    "casos_novos_diarios[:30]"
   ]
  },
  {
   "cell_type": "code",
   "execution_count": 183,
   "metadata": {},
   "outputs": [
    {
     "ename": "NameError",
     "evalue": "name 'casos_novos_diarios' is not defined",
     "output_type": "error",
     "traceback": [
      "\u001b[0;31m---------------------------------------------------------------------------\u001b[0m",
      "\u001b[0;31mNameError\u001b[0m                                 Traceback (most recent call last)",
      "\u001b[0;32m<ipython-input-183-7d5e3451ed59>\u001b[0m in \u001b[0;36m<module>\u001b[0;34m\u001b[0m\n\u001b[1;32m     22\u001b[0m \u001b[0;34m\u001b[0m\u001b[0m\n\u001b[1;32m     23\u001b[0m \u001b[0;34m\u001b[0m\u001b[0m\n\u001b[0;32m---> 24\u001b[0;31m \u001b[0mplt\u001b[0m\u001b[0;34m.\u001b[0m\u001b[0mplot\u001b[0m\u001b[0;34m(\u001b[0m\u001b[0mt\u001b[0m\u001b[0;34m[\u001b[0m\u001b[0;34m:\u001b[0m\u001b[0;36m259\u001b[0m\u001b[0;34m]\u001b[0m\u001b[0;34m,\u001b[0m \u001b[0mcasos_novos_diarios\u001b[0m\u001b[0;34m,\u001b[0m \u001b[0mcolor\u001b[0m\u001b[0;34m=\u001b[0m\u001b[0;34m'blue'\u001b[0m\u001b[0;34m,\u001b[0m \u001b[0mlinewidth\u001b[0m\u001b[0;34m=\u001b[0m\u001b[0;36m7\u001b[0m\u001b[0;34m)\u001b[0m\u001b[0;34m\u001b[0m\u001b[0;34m\u001b[0m\u001b[0m\n\u001b[0m\u001b[1;32m     25\u001b[0m \u001b[0;34m\u001b[0m\u001b[0m\n\u001b[1;32m     26\u001b[0m \u001b[0mplt\u001b[0m\u001b[0;34m.\u001b[0m\u001b[0mplot\u001b[0m\u001b[0;34m(\u001b[0m\u001b[0mt\u001b[0m\u001b[0;34m[\u001b[0m\u001b[0;36m79\u001b[0m\u001b[0;34m:\u001b[0m\u001b[0;36m258\u001b[0m\u001b[0;34m]\u001b[0m\u001b[0;34m,\u001b[0m \u001b[0mphas5b_novos\u001b[0m\u001b[0;34m,\u001b[0m \u001b[0mcolor\u001b[0m\u001b[0;34m=\u001b[0m\u001b[0;34m'red'\u001b[0m\u001b[0;34m,\u001b[0m \u001b[0mlinewidth\u001b[0m\u001b[0;34m=\u001b[0m\u001b[0;36m7\u001b[0m\u001b[0;34m)\u001b[0m\u001b[0;34m\u001b[0m\u001b[0;34m\u001b[0m\u001b[0m\n",
      "\u001b[0;31mNameError\u001b[0m: name 'casos_novos_diarios' is not defined"
     ]
    },
    {
     "data": {
      "image/png": "[encoded data removed]",
      "text/plain": [
       "<Figure size 1440x720 with 1 Axes>"
      ]
     },
     "metadata": {
      "needs_background": "light"
     },
     "output_type": "display_data"
    }
   ],
   "source": [
    "\n",
    "\n",
    "\n",
    "\n",
    "fig = plt.figure(figsize=(20,10))\n",
    "ax = fig.gca()\n",
    "\n",
    "\n",
    "ax.spines[\"top\"].set_visible(False)\n",
    "ax.spines[\"right\"].set_visible(False)\n",
    "\n",
    "\n",
    "march_2 = dt.date(2020,3,2)\n",
    "then = march_2 + dt.timedelta(days=260)\n",
    "t = mdates.drange(march_2,then,dt.timedelta(days=1))\n",
    "t = t.astype('int32')\n",
    "\n",
    "ax.xaxis.set_major_formatter(mdates.DateFormatter('%m-%d'))\n",
    "ax.xaxis.set_major_locator(mdates.DayLocator([2]))\n",
    "\n",
    "\n",
    "\n",
    "\n",
    "\n",
    "\n",
    "\n",
    "\n",
    "plt.plot(t[:259], casos_novos_diarios, color='blue', linewidth=7)\n",
    "\n",
    "plt.plot(t[79:258], phas5b_novos, color='red', linewidth=7)\n",
    "\n",
    "plt.fill_between(t[79:258], casos_novos_diarios[79:258], phas5b_novos, color='lightcyan', alpha='0.5')\n",
    "\n",
    "#plt.plot(t[0:80], ativos, color='gray', marker = 'o', markersize=10)\n",
    "\n",
    "\n",
    "\n",
    "\n",
    "font = {'family' : 'DejaVu Sans',\n",
    "        'weight' : 'bold',\n",
    "        'size'   : 25}\n",
    "\n",
    "matplotlib.rc('font', **font)\n",
    "\n",
    "\n",
    "from datetime import date\n",
    "\n",
    "dates = [date.fromordinal(t[0]), date.fromordinal(t[63]),   date.fromordinal(t[91]), date.fromordinal(t[192])]\n",
    "\n",
    "plt.xticks(dates, fontsize=15)\n",
    "plt.yticks()\n",
    "\n",
    "plt.ylabel('Número de novos casos')\n",
    "\n",
    "plt.title('Evolução diária do número de novos casos diários confirmados ')\n",
    "\n",
    "plt.show()"
   ]
  },
  {
   "cell_type": "code",
   "execution_count": null,
   "metadata": {},
   "outputs": [],
   "source": []
  },
  {
   "cell_type": "code",
   "execution_count": null,
   "metadata": {},
   "outputs": [],
   "source": []
  },
  {
   "cell_type": "code",
   "execution_count": 182,
   "metadata": {},
   "outputs": [
    {
     "ename": "ValueError",
     "evalue": "x and y must have same first dimension, but have shapes (80,) and (92,)",
     "output_type": "error",
     "traceback": [
      "\u001b[0;31m---------------------------------------------------------------------------\u001b[0m",
      "\u001b[0;31mValueError\u001b[0m                                Traceback (most recent call last)",
      "\u001b[0;32m<ipython-input-182-1aa8fb8eda1d>\u001b[0m in \u001b[0;36m<module>\u001b[0;34m\u001b[0m\n\u001b[1;32m     18\u001b[0m \u001b[0;34m\u001b[0m\u001b[0m\n\u001b[1;32m     19\u001b[0m \u001b[0;34m\u001b[0m\u001b[0m\n\u001b[0;32m---> 20\u001b[0;31m \u001b[0mplt\u001b[0m\u001b[0;34m.\u001b[0m\u001b[0mplot\u001b[0m\u001b[0;34m(\u001b[0m\u001b[0mt\u001b[0m\u001b[0;34m[\u001b[0m\u001b[0;36m0\u001b[0m\u001b[0;34m:\u001b[0m\u001b[0;36m80\u001b[0m\u001b[0;34m]\u001b[0m\u001b[0;34m,\u001b[0m \u001b[0maver\u001b[0m\u001b[0;34m,\u001b[0m\u001b[0;34m'b'\u001b[0m\u001b[0;34m,\u001b[0m \u001b[0mlinewidth\u001b[0m\u001b[0;34m=\u001b[0m\u001b[0;36m3.0\u001b[0m\u001b[0;34m)\u001b[0m\u001b[0;34m\u001b[0m\u001b[0;34m\u001b[0m\u001b[0m\n\u001b[0m\u001b[1;32m     21\u001b[0m \u001b[0mplt\u001b[0m\u001b[0;34m.\u001b[0m\u001b[0mscatter\u001b[0m\u001b[0;34m(\u001b[0m\u001b[0mt\u001b[0m\u001b[0;34m[\u001b[0m\u001b[0;36m0\u001b[0m\u001b[0;34m:\u001b[0m\u001b[0;36m80\u001b[0m\u001b[0;34m]\u001b[0m\u001b[0;34m,\u001b[0m \u001b[0mcasos_novos\u001b[0m\u001b[0;34m,\u001b[0m \u001b[0ms\u001b[0m\u001b[0;34m=\u001b[0m\u001b[0;36m30\u001b[0m\u001b[0;34m,\u001b[0m \u001b[0mcolor\u001b[0m\u001b[0;34m=\u001b[0m\u001b[0;34m'red'\u001b[0m\u001b[0;34m,\u001b[0m \u001b[0mmarker\u001b[0m\u001b[0;34m=\u001b[0m\u001b[0;34m'o'\u001b[0m\u001b[0;34m)\u001b[0m\u001b[0;34m\u001b[0m\u001b[0;34m\u001b[0m\u001b[0m\n\u001b[1;32m     22\u001b[0m \u001b[0;34m\u001b[0m\u001b[0m\n",
      "\u001b[0;32m/opt/anaconda3/lib/python3.7/site-packages/matplotlib/pyplot.py\u001b[0m in \u001b[0;36mplot\u001b[0;34m(scalex, scaley, data, *args, **kwargs)\u001b[0m\n\u001b[1;32m   3019\u001b[0m     return gca().plot(\n\u001b[1;32m   3020\u001b[0m         \u001b[0;34m*\u001b[0m\u001b[0margs\u001b[0m\u001b[0;34m,\u001b[0m \u001b[0mscalex\u001b[0m\u001b[0;34m=\u001b[0m\u001b[0mscalex\u001b[0m\u001b[0;34m,\u001b[0m \u001b[0mscaley\u001b[0m\u001b[0;34m=\u001b[0m\u001b[0mscaley\u001b[0m\u001b[0;34m,\u001b[0m\u001b[0;34m\u001b[0m\u001b[0;34m\u001b[0m\u001b[0m\n\u001b[0;32m-> 3021\u001b[0;31m         **({\"data\": data} if data is not None else {}), **kwargs)\n\u001b[0m\u001b[1;32m   3022\u001b[0m \u001b[0;34m\u001b[0m\u001b[0m\n\u001b[1;32m   3023\u001b[0m \u001b[0;34m\u001b[0m\u001b[0m\n",
      "\u001b[0;32m/opt/anaconda3/lib/python3.7/site-packages/matplotlib/axes/_axes.py\u001b[0m in \u001b[0;36mplot\u001b[0;34m(self, scalex, scaley, data, *args, **kwargs)\u001b[0m\n\u001b[1;32m   1603\u001b[0m         \"\"\"\n\u001b[1;32m   1604\u001b[0m         \u001b[0mkwargs\u001b[0m \u001b[0;34m=\u001b[0m \u001b[0mcbook\u001b[0m\u001b[0;34m.\u001b[0m\u001b[0mnormalize_kwargs\u001b[0m\u001b[0;34m(\u001b[0m\u001b[0mkwargs\u001b[0m\u001b[0;34m,\u001b[0m \u001b[0mmlines\u001b[0m\u001b[0;34m.\u001b[0m\u001b[0mLine2D\u001b[0m\u001b[0;34m)\u001b[0m\u001b[0;34m\u001b[0m\u001b[0;34m\u001b[0m\u001b[0m\n\u001b[0;32m-> 1605\u001b[0;31m         \u001b[0mlines\u001b[0m \u001b[0;34m=\u001b[0m \u001b[0;34m[\u001b[0m\u001b[0;34m*\u001b[0m\u001b[0mself\u001b[0m\u001b[0;34m.\u001b[0m\u001b[0m_get_lines\u001b[0m\u001b[0;34m(\u001b[0m\u001b[0;34m*\u001b[0m\u001b[0margs\u001b[0m\u001b[0;34m,\u001b[0m \u001b[0mdata\u001b[0m\u001b[0;34m=\u001b[0m\u001b[0mdata\u001b[0m\u001b[0;34m,\u001b[0m \u001b[0;34m**\u001b[0m\u001b[0mkwargs\u001b[0m\u001b[0;34m)\u001b[0m\u001b[0;34m]\u001b[0m\u001b[0;34m\u001b[0m\u001b[0;34m\u001b[0m\u001b[0m\n\u001b[0m\u001b[1;32m   1606\u001b[0m         \u001b[0;32mfor\u001b[0m \u001b[0mline\u001b[0m \u001b[0;32min\u001b[0m \u001b[0mlines\u001b[0m\u001b[0;34m:\u001b[0m\u001b[0;34m\u001b[0m\u001b[0;34m\u001b[0m\u001b[0m\n\u001b[1;32m   1607\u001b[0m             \u001b[0mself\u001b[0m\u001b[0;34m.\u001b[0m\u001b[0madd_line\u001b[0m\u001b[0;34m(\u001b[0m\u001b[0mline\u001b[0m\u001b[0;34m)\u001b[0m\u001b[0;34m\u001b[0m\u001b[0;34m\u001b[0m\u001b[0m\n",
      "\u001b[0;32m/opt/anaconda3/lib/python3.7/site-packages/matplotlib/axes/_base.py\u001b[0m in \u001b[0;36m__call__\u001b[0;34m(self, data, *args, **kwargs)\u001b[0m\n\u001b[1;32m    313\u001b[0m                 \u001b[0mthis\u001b[0m \u001b[0;34m+=\u001b[0m \u001b[0margs\u001b[0m\u001b[0;34m[\u001b[0m\u001b[0;36m0\u001b[0m\u001b[0;34m]\u001b[0m\u001b[0;34m,\u001b[0m\u001b[0;34m\u001b[0m\u001b[0;34m\u001b[0m\u001b[0m\n\u001b[1;32m    314\u001b[0m                 \u001b[0margs\u001b[0m \u001b[0;34m=\u001b[0m \u001b[0margs\u001b[0m\u001b[0;34m[\u001b[0m\u001b[0;36m1\u001b[0m\u001b[0;34m:\u001b[0m\u001b[0;34m]\u001b[0m\u001b[0;34m\u001b[0m\u001b[0;34m\u001b[0m\u001b[0m\n\u001b[0;32m--> 315\u001b[0;31m             \u001b[0;32myield\u001b[0m \u001b[0;32mfrom\u001b[0m \u001b[0mself\u001b[0m\u001b[0;34m.\u001b[0m\u001b[0m_plot_args\u001b[0m\u001b[0;34m(\u001b[0m\u001b[0mthis\u001b[0m\u001b[0;34m,\u001b[0m \u001b[0mkwargs\u001b[0m\u001b[0;34m)\u001b[0m\u001b[0;34m\u001b[0m\u001b[0;34m\u001b[0m\u001b[0m\n\u001b[0m\u001b[1;32m    316\u001b[0m \u001b[0;34m\u001b[0m\u001b[0m\n\u001b[1;32m    317\u001b[0m     \u001b[0;32mdef\u001b[0m \u001b[0mget_next_color\u001b[0m\u001b[0;34m(\u001b[0m\u001b[0mself\u001b[0m\u001b[0;34m)\u001b[0m\u001b[0;34m:\u001b[0m\u001b[0;34m\u001b[0m\u001b[0;34m\u001b[0m\u001b[0m\n",
      "\u001b[0;32m/opt/anaconda3/lib/python3.7/site-packages/matplotlib/axes/_base.py\u001b[0m in \u001b[0;36m_plot_args\u001b[0;34m(self, tup, kwargs, return_kwargs)\u001b[0m\n\u001b[1;32m    499\u001b[0m \u001b[0;34m\u001b[0m\u001b[0m\n\u001b[1;32m    500\u001b[0m         \u001b[0;32mif\u001b[0m \u001b[0mx\u001b[0m\u001b[0;34m.\u001b[0m\u001b[0mshape\u001b[0m\u001b[0;34m[\u001b[0m\u001b[0;36m0\u001b[0m\u001b[0;34m]\u001b[0m \u001b[0;34m!=\u001b[0m \u001b[0my\u001b[0m\u001b[0;34m.\u001b[0m\u001b[0mshape\u001b[0m\u001b[0;34m[\u001b[0m\u001b[0;36m0\u001b[0m\u001b[0;34m]\u001b[0m\u001b[0;34m:\u001b[0m\u001b[0;34m\u001b[0m\u001b[0;34m\u001b[0m\u001b[0m\n\u001b[0;32m--> 501\u001b[0;31m             raise ValueError(f\"x and y must have same first dimension, but \"\n\u001b[0m\u001b[1;32m    502\u001b[0m                              f\"have shapes {x.shape} and {y.shape}\")\n\u001b[1;32m    503\u001b[0m         \u001b[0;32mif\u001b[0m \u001b[0mx\u001b[0m\u001b[0;34m.\u001b[0m\u001b[0mndim\u001b[0m \u001b[0;34m>\u001b[0m \u001b[0;36m2\u001b[0m \u001b[0;32mor\u001b[0m \u001b[0my\u001b[0m\u001b[0;34m.\u001b[0m\u001b[0mndim\u001b[0m \u001b[0;34m>\u001b[0m \u001b[0;36m2\u001b[0m\u001b[0;34m:\u001b[0m\u001b[0;34m\u001b[0m\u001b[0;34m\u001b[0m\u001b[0m\n",
      "\u001b[0;31mValueError\u001b[0m: x and y must have same first dimension, but have shapes (80,) and (92,)"
     ]
    },
    {
     "data": {
      "image/png": "[encoded data removed]",
      "text/plain": [
       "<Figure size 1440x720 with 1 Axes>"
      ]
     },
     "metadata": {
      "needs_background": "light"
     },
     "output_type": "display_data"
    }
   ],
   "source": [
    "\n",
    "l= len(casos_novos)\n",
    "\n",
    "aver = cma(casos_novos, 15)\n",
    "\n",
    "fig = plt.figure(figsize=(20,10))\n",
    "ax = fig.gca()\n",
    "\n",
    "ax.spines[\"top\"].set_visible(False)\n",
    "ax.spines[\"right\"].set_visible(False)\n",
    "\n",
    "march_2 = dt.date(2020,3,2)\n",
    "then = march_2 + dt.timedelta(days=260)\n",
    "t = mdates.drange(march_2,then,dt.timedelta(days=1))\n",
    "t = t.astype('int32')\n",
    "\n",
    "ax.xaxis.set_major_formatter(mdates.DateFormatter('%m-%d'))\n",
    "ax.xaxis.set_major_locator(mdates.DayLocator([2]))\n",
    "\n",
    "\n",
    "plt.plot(t[0:80], aver,'b', linewidth=3.0)\n",
    "plt.scatter(t[0:80], casos_novos, s=30, color='red', marker='o')\n",
    "\n",
    "\n",
    "plt.ylabel('Número de casos')\n",
    "plt.yticks([0, 250, 500, 750, 1000, 1250, 1500])\n",
    "\n",
    "\n",
    "plt.title('Novos casos confirmados por dia')\n",
    "\n",
    "plt.show()"
   ]
  },
  {
   "cell_type": "code",
   "execution_count": 43,
   "metadata": {},
   "outputs": [
    {
     "data": {
      "text/plain": [
       "dtype('int64')"
      ]
     },
     "execution_count": 43,
     "metadata": {},
     "output_type": "execute_result"
    }
   ],
   "source": [
    "ativos.dtype"
   ]
  },
  {
   "cell_type": "code",
   "execution_count": 44,
   "metadata": {},
   "outputs": [
    {
     "data": {
      "text/plain": [
       "dtype('int64')"
      ]
     },
     "execution_count": 44,
     "metadata": {},
     "output_type": "execute_result"
    }
   ],
   "source": [
    "casos_novos.dtype"
   ]
  },
  {
   "cell_type": "code",
   "execution_count": 45,
   "metadata": {},
   "outputs": [
    {
     "data": {
      "text/plain": [
       "794.5333333333333"
      ]
     },
     "execution_count": 45,
     "metadata": {},
     "output_type": "execute_result"
    }
   ],
   "source": [
    "max(aver)"
   ]
  },
  {
   "cell_type": "code",
   "execution_count": null,
   "metadata": {},
   "outputs": [],
   "source": []
  },
  {
   "cell_type": "code",
   "execution_count": null,
   "metadata": {},
   "outputs": [],
   "source": []
  },
  {
   "cell_type": "code",
   "execution_count": 46,
   "metadata": {},
   "outputs": [],
   "source": [
    "hosp = pd.read_csv('TIME DATA PT.csv')"
   ]
  },
  {
   "cell_type": "code",
   "execution_count": 47,
   "metadata": {},
   "outputs": [
    {
     "data": {
      "text/html": [
       "<div>\n",
       "<style scoped>\n",
       "    .dataframe tbody tr th:only-of-type {\n",
       "        vertical-align: middle;\n",
       "    }\n",
       "\n",
       "    .dataframe tbody tr th {\n",
       "        vertical-align: top;\n",
       "    }\n",
       "\n",
       "    .dataframe thead th {\n",
       "        text-align: right;\n",
       "    }\n",
       "</style>\n",
       "<table border=\"1\" class=\"dataframe\">\n",
       "  <thead>\n",
       "    <tr style=\"text-align: right;\">\n",
       "      <th></th>\n",
       "      <th>Date</th>\n",
       "      <th>Cases cumulative</th>\n",
       "      <th>New cases</th>\n",
       "      <th>Deaths cumulative</th>\n",
       "      <th>New deaths</th>\n",
       "      <th>Hospitalized cumulative CORRECTED</th>\n",
       "      <th>New hospitalized CORRECTED</th>\n",
       "      <th>New hospitalized       (37% of hospitals)</th>\n",
       "      <th>Hospitalized active</th>\n",
       "      <th>UCI</th>\n",
       "      <th>Unnamed: 10</th>\n",
       "      <th>Unnamed: 11</th>\n",
       "      <th>Unnamed: 12</th>\n",
       "      <th>Unnamed: 13</th>\n",
       "      <th>Unnamed: 14</th>\n",
       "      <th>Unnamed: 15</th>\n",
       "      <th>Unnamed: 16</th>\n",
       "      <th>Unnamed: 17</th>\n",
       "      <th>Unnamed: 18</th>\n",
       "      <th>Unnamed: 19</th>\n",
       "    </tr>\n",
       "  </thead>\n",
       "  <tbody>\n",
       "    <tr>\n",
       "      <th>0</th>\n",
       "      <td>3/2/20</td>\n",
       "      <td>2.0</td>\n",
       "      <td>2.0</td>\n",
       "      <td>0.0</td>\n",
       "      <td>0.0</td>\n",
       "      <td>0.0</td>\n",
       "      <td>0.0</td>\n",
       "      <td>0.0</td>\n",
       "      <td>0.0</td>\n",
       "      <td>NaN</td>\n",
       "      <td>NaN</td>\n",
       "      <td>NaN</td>\n",
       "      <td>NaN</td>\n",
       "      <td>NaN</td>\n",
       "      <td>NaN</td>\n",
       "      <td>NaN</td>\n",
       "      <td>NaN</td>\n",
       "      <td>NaN</td>\n",
       "      <td>NaN</td>\n",
       "      <td>NaN</td>\n",
       "    </tr>\n",
       "    <tr>\n",
       "      <th>1</th>\n",
       "      <td>3/3/20</td>\n",
       "      <td>4.0</td>\n",
       "      <td>2.0</td>\n",
       "      <td>0.0</td>\n",
       "      <td>0.0</td>\n",
       "      <td>7.0</td>\n",
       "      <td>7.0</td>\n",
       "      <td>4.0</td>\n",
       "      <td>0.0</td>\n",
       "      <td>NaN</td>\n",
       "      <td>NaN</td>\n",
       "      <td>NaN</td>\n",
       "      <td>NaN</td>\n",
       "      <td>NaN</td>\n",
       "      <td>NaN</td>\n",
       "      <td>NaN</td>\n",
       "      <td>NaN</td>\n",
       "      <td>NaN</td>\n",
       "      <td>NaN</td>\n",
       "      <td>NaN</td>\n",
       "    </tr>\n",
       "    <tr>\n",
       "      <th>2</th>\n",
       "      <td>3/4/20</td>\n",
       "      <td>5.0</td>\n",
       "      <td>1.0</td>\n",
       "      <td>0.0</td>\n",
       "      <td>0.0</td>\n",
       "      <td>15.0</td>\n",
       "      <td>8.0</td>\n",
       "      <td>5.0</td>\n",
       "      <td>0.0</td>\n",
       "      <td>NaN</td>\n",
       "      <td>NaN</td>\n",
       "      <td>NaN</td>\n",
       "      <td>NaN</td>\n",
       "      <td>NaN</td>\n",
       "      <td>NaN</td>\n",
       "      <td>NaN</td>\n",
       "      <td>NaN</td>\n",
       "      <td>NaN</td>\n",
       "      <td>NaN</td>\n",
       "      <td>NaN</td>\n",
       "    </tr>\n",
       "    <tr>\n",
       "      <th>3</th>\n",
       "      <td>3/5/20</td>\n",
       "      <td>9.0</td>\n",
       "      <td>4.0</td>\n",
       "      <td>0.0</td>\n",
       "      <td>0.0</td>\n",
       "      <td>17.0</td>\n",
       "      <td>2.0</td>\n",
       "      <td>1.0</td>\n",
       "      <td>9.0</td>\n",
       "      <td>NaN</td>\n",
       "      <td>NaN</td>\n",
       "      <td>NaN</td>\n",
       "      <td>NaN</td>\n",
       "      <td>NaN</td>\n",
       "      <td>NaN</td>\n",
       "      <td>NaN</td>\n",
       "      <td>NaN</td>\n",
       "      <td>NaN</td>\n",
       "      <td>NaN</td>\n",
       "      <td>NaN</td>\n",
       "    </tr>\n",
       "    <tr>\n",
       "      <th>4</th>\n",
       "      <td>3/6/20</td>\n",
       "      <td>13.0</td>\n",
       "      <td>4.0</td>\n",
       "      <td>0.0</td>\n",
       "      <td>0.0</td>\n",
       "      <td>19.0</td>\n",
       "      <td>2.0</td>\n",
       "      <td>1.0</td>\n",
       "      <td>13.0</td>\n",
       "      <td>NaN</td>\n",
       "      <td>NaN</td>\n",
       "      <td>NaN</td>\n",
       "      <td>NaN</td>\n",
       "      <td>NaN</td>\n",
       "      <td>NaN</td>\n",
       "      <td>NaN</td>\n",
       "      <td>NaN</td>\n",
       "      <td>NaN</td>\n",
       "      <td>NaN</td>\n",
       "      <td>NaN</td>\n",
       "    </tr>\n",
       "    <tr>\n",
       "      <th>5</th>\n",
       "      <td>3/7/20</td>\n",
       "      <td>21.0</td>\n",
       "      <td>8.0</td>\n",
       "      <td>0.0</td>\n",
       "      <td>0.0</td>\n",
       "      <td>29.0</td>\n",
       "      <td>10.0</td>\n",
       "      <td>6.0</td>\n",
       "      <td>21.0</td>\n",
       "      <td>NaN</td>\n",
       "      <td>NaN</td>\n",
       "      <td>NaN</td>\n",
       "      <td>NaN</td>\n",
       "      <td>NaN</td>\n",
       "      <td>NaN</td>\n",
       "      <td>NaN</td>\n",
       "      <td>NaN</td>\n",
       "      <td>NaN</td>\n",
       "      <td>NaN</td>\n",
       "      <td>NaN</td>\n",
       "    </tr>\n",
       "    <tr>\n",
       "      <th>6</th>\n",
       "      <td>3/8/20</td>\n",
       "      <td>30.0</td>\n",
       "      <td>9.0</td>\n",
       "      <td>0.0</td>\n",
       "      <td>0.0</td>\n",
       "      <td>32.0</td>\n",
       "      <td>3.0</td>\n",
       "      <td>2.0</td>\n",
       "      <td>30.0</td>\n",
       "      <td>NaN</td>\n",
       "      <td>NaN</td>\n",
       "      <td>NaN</td>\n",
       "      <td>NaN</td>\n",
       "      <td>NaN</td>\n",
       "      <td>NaN</td>\n",
       "      <td>NaN</td>\n",
       "      <td>NaN</td>\n",
       "      <td>NaN</td>\n",
       "      <td>NaN</td>\n",
       "      <td>NaN</td>\n",
       "    </tr>\n",
       "    <tr>\n",
       "      <th>7</th>\n",
       "      <td>3/9/20</td>\n",
       "      <td>39.0</td>\n",
       "      <td>9.0</td>\n",
       "      <td>0.0</td>\n",
       "      <td>0.0</td>\n",
       "      <td>34.0</td>\n",
       "      <td>2.0</td>\n",
       "      <td>1.0</td>\n",
       "      <td>38.0</td>\n",
       "      <td>NaN</td>\n",
       "      <td>NaN</td>\n",
       "      <td>NaN</td>\n",
       "      <td>NaN</td>\n",
       "      <td>NaN</td>\n",
       "      <td>NaN</td>\n",
       "      <td>NaN</td>\n",
       "      <td>NaN</td>\n",
       "      <td>NaN</td>\n",
       "      <td>NaN</td>\n",
       "      <td>NaN</td>\n",
       "    </tr>\n",
       "    <tr>\n",
       "      <th>8</th>\n",
       "      <td>3/10/20</td>\n",
       "      <td>41.0</td>\n",
       "      <td>2.0</td>\n",
       "      <td>0.0</td>\n",
       "      <td>0.0</td>\n",
       "      <td>39.0</td>\n",
       "      <td>5.0</td>\n",
       "      <td>3.0</td>\n",
       "      <td>40.0</td>\n",
       "      <td>NaN</td>\n",
       "      <td>NaN</td>\n",
       "      <td>NaN</td>\n",
       "      <td>NaN</td>\n",
       "      <td>NaN</td>\n",
       "      <td>NaN</td>\n",
       "      <td>NaN</td>\n",
       "      <td>NaN</td>\n",
       "      <td>NaN</td>\n",
       "      <td>NaN</td>\n",
       "      <td>NaN</td>\n",
       "    </tr>\n",
       "    <tr>\n",
       "      <th>9</th>\n",
       "      <td>3/11/20</td>\n",
       "      <td>59.0</td>\n",
       "      <td>18.0</td>\n",
       "      <td>0.0</td>\n",
       "      <td>0.0</td>\n",
       "      <td>46.0</td>\n",
       "      <td>7.0</td>\n",
       "      <td>4.0</td>\n",
       "      <td>57.0</td>\n",
       "      <td>NaN</td>\n",
       "      <td>NaN</td>\n",
       "      <td>NaN</td>\n",
       "      <td>NaN</td>\n",
       "      <td>NaN</td>\n",
       "      <td>NaN</td>\n",
       "      <td>NaN</td>\n",
       "      <td>NaN</td>\n",
       "      <td>NaN</td>\n",
       "      <td>NaN</td>\n",
       "      <td>NaN</td>\n",
       "    </tr>\n",
       "    <tr>\n",
       "      <th>10</th>\n",
       "      <td>3/12/20</td>\n",
       "      <td>78.0</td>\n",
       "      <td>19.0</td>\n",
       "      <td>0.0</td>\n",
       "      <td>0.0</td>\n",
       "      <td>56.0</td>\n",
       "      <td>10.0</td>\n",
       "      <td>6.0</td>\n",
       "      <td>69.0</td>\n",
       "      <td>NaN</td>\n",
       "      <td>NaN</td>\n",
       "      <td>NaN</td>\n",
       "      <td>NaN</td>\n",
       "      <td>NaN</td>\n",
       "      <td>NaN</td>\n",
       "      <td>NaN</td>\n",
       "      <td>NaN</td>\n",
       "      <td>NaN</td>\n",
       "      <td>NaN</td>\n",
       "      <td>NaN</td>\n",
       "    </tr>\n",
       "    <tr>\n",
       "      <th>11</th>\n",
       "      <td>3/13/20</td>\n",
       "      <td>111.0</td>\n",
       "      <td>33.0</td>\n",
       "      <td>0.0</td>\n",
       "      <td>0.0</td>\n",
       "      <td>63.0</td>\n",
       "      <td>7.0</td>\n",
       "      <td>4.0</td>\n",
       "      <td>107.0</td>\n",
       "      <td>NaN</td>\n",
       "      <td>NaN</td>\n",
       "      <td>NaN</td>\n",
       "      <td>NaN</td>\n",
       "      <td>NaN</td>\n",
       "      <td>NaN</td>\n",
       "      <td>NaN</td>\n",
       "      <td>NaN</td>\n",
       "      <td>NaN</td>\n",
       "      <td>NaN</td>\n",
       "      <td>NaN</td>\n",
       "    </tr>\n",
       "    <tr>\n",
       "      <th>12</th>\n",
       "      <td>3/14/20</td>\n",
       "      <td>165.0</td>\n",
       "      <td>54.0</td>\n",
       "      <td>0.0</td>\n",
       "      <td>0.0</td>\n",
       "      <td>72.0</td>\n",
       "      <td>9.0</td>\n",
       "      <td>5.0</td>\n",
       "      <td>114.0</td>\n",
       "      <td>NaN</td>\n",
       "      <td>NaN</td>\n",
       "      <td>NaN</td>\n",
       "      <td>NaN</td>\n",
       "      <td>NaN</td>\n",
       "      <td>NaN</td>\n",
       "      <td>NaN</td>\n",
       "      <td>NaN</td>\n",
       "      <td>NaN</td>\n",
       "      <td>NaN</td>\n",
       "      <td>NaN</td>\n",
       "    </tr>\n",
       "    <tr>\n",
       "      <th>13</th>\n",
       "      <td>3/15/20</td>\n",
       "      <td>240.0</td>\n",
       "      <td>75.0</td>\n",
       "      <td>0.0</td>\n",
       "      <td>0.0</td>\n",
       "      <td>82.0</td>\n",
       "      <td>10.0</td>\n",
       "      <td>6.0</td>\n",
       "      <td>139.0</td>\n",
       "      <td>NaN</td>\n",
       "      <td>NaN</td>\n",
       "      <td>NaN</td>\n",
       "      <td>NaN</td>\n",
       "      <td>NaN</td>\n",
       "      <td>NaN</td>\n",
       "      <td>NaN</td>\n",
       "      <td>NaN</td>\n",
       "      <td>NaN</td>\n",
       "      <td>NaN</td>\n",
       "      <td>NaN</td>\n",
       "    </tr>\n",
       "    <tr>\n",
       "      <th>14</th>\n",
       "      <td>3/16/20</td>\n",
       "      <td>326.0</td>\n",
       "      <td>86.0</td>\n",
       "      <td>0.0</td>\n",
       "      <td>0.0</td>\n",
       "      <td>111.0</td>\n",
       "      <td>29.0</td>\n",
       "      <td>17.0</td>\n",
       "      <td>139.0</td>\n",
       "      <td>NaN</td>\n",
       "      <td>NaN</td>\n",
       "      <td>NaN</td>\n",
       "      <td>NaN</td>\n",
       "      <td>NaN</td>\n",
       "      <td>NaN</td>\n",
       "      <td>NaN</td>\n",
       "      <td>NaN</td>\n",
       "      <td>NaN</td>\n",
       "      <td>NaN</td>\n",
       "      <td>NaN</td>\n",
       "    </tr>\n",
       "    <tr>\n",
       "      <th>15</th>\n",
       "      <td>3/17/20</td>\n",
       "      <td>442.0</td>\n",
       "      <td>116.0</td>\n",
       "      <td>1.0</td>\n",
       "      <td>1.0</td>\n",
       "      <td>127.0</td>\n",
       "      <td>16.0</td>\n",
       "      <td>9.0</td>\n",
       "      <td>206.0</td>\n",
       "      <td>NaN</td>\n",
       "      <td>NaN</td>\n",
       "      <td>NaN</td>\n",
       "      <td>NaN</td>\n",
       "      <td>NaN</td>\n",
       "      <td>NaN</td>\n",
       "      <td>NaN</td>\n",
       "      <td>NaN</td>\n",
       "      <td>NaN</td>\n",
       "      <td>NaN</td>\n",
       "      <td>NaN</td>\n",
       "    </tr>\n",
       "  </tbody>\n",
       "</table>\n",
       "</div>"
      ],
      "text/plain": [
       "       Date  Cases cumulative  New cases  Deaths cumulative  New deaths  \\\n",
       "0    3/2/20               2.0        2.0                0.0         0.0   \n",
       "1    3/3/20               4.0        2.0                0.0         0.0   \n",
       "2    3/4/20               5.0        1.0                0.0         0.0   \n",
       "3    3/5/20               9.0        4.0                0.0         0.0   \n",
       "4    3/6/20              13.0        4.0                0.0         0.0   \n",
       "5    3/7/20              21.0        8.0                0.0         0.0   \n",
       "6    3/8/20              30.0        9.0                0.0         0.0   \n",
       "7    3/9/20              39.0        9.0                0.0         0.0   \n",
       "8   3/10/20              41.0        2.0                0.0         0.0   \n",
       "9   3/11/20              59.0       18.0                0.0         0.0   \n",
       "10  3/12/20              78.0       19.0                0.0         0.0   \n",
       "11  3/13/20             111.0       33.0                0.0         0.0   \n",
       "12  3/14/20             165.0       54.0                0.0         0.0   \n",
       "13  3/15/20             240.0       75.0                0.0         0.0   \n",
       "14  3/16/20             326.0       86.0                0.0         0.0   \n",
       "15  3/17/20             442.0      116.0                1.0         1.0   \n",
       "\n",
       "    Hospitalized cumulative CORRECTED  New hospitalized CORRECTED  \\\n",
       "0                                 0.0                         0.0   \n",
       "1                                 7.0                         7.0   \n",
       "2                                15.0                         8.0   \n",
       "3                                17.0                         2.0   \n",
       "4                                19.0                         2.0   \n",
       "5                                29.0                        10.0   \n",
       "6                                32.0                         3.0   \n",
       "7                                34.0                         2.0   \n",
       "8                                39.0                         5.0   \n",
       "9                                46.0                         7.0   \n",
       "10                               56.0                        10.0   \n",
       "11                               63.0                         7.0   \n",
       "12                               72.0                         9.0   \n",
       "13                               82.0                        10.0   \n",
       "14                              111.0                        29.0   \n",
       "15                              127.0                        16.0   \n",
       "\n",
       "    New hospitalized       (37% of hospitals)  Hospitalized active  UCI  \\\n",
       "0                                         0.0                  0.0  NaN   \n",
       "1                                         4.0                  0.0  NaN   \n",
       "2                                         5.0                  0.0  NaN   \n",
       "3                                         1.0                  9.0  NaN   \n",
       "4                                         1.0                 13.0  NaN   \n",
       "5                                         6.0                 21.0  NaN   \n",
       "6                                         2.0                 30.0  NaN   \n",
       "7                                         1.0                 38.0  NaN   \n",
       "8                                         3.0                 40.0  NaN   \n",
       "9                                         4.0                 57.0  NaN   \n",
       "10                                        6.0                 69.0  NaN   \n",
       "11                                        4.0                107.0  NaN   \n",
       "12                                        5.0                114.0  NaN   \n",
       "13                                        6.0                139.0  NaN   \n",
       "14                                       17.0                139.0  NaN   \n",
       "15                                        9.0                206.0  NaN   \n",
       "\n",
       "    Unnamed: 10  Unnamed: 11  Unnamed: 12  Unnamed: 13  Unnamed: 14  \\\n",
       "0           NaN          NaN          NaN          NaN          NaN   \n",
       "1           NaN          NaN          NaN          NaN          NaN   \n",
       "2           NaN          NaN          NaN          NaN          NaN   \n",
       "3           NaN          NaN          NaN          NaN          NaN   \n",
       "4           NaN          NaN          NaN          NaN          NaN   \n",
       "5           NaN          NaN          NaN          NaN          NaN   \n",
       "6           NaN          NaN          NaN          NaN          NaN   \n",
       "7           NaN          NaN          NaN          NaN          NaN   \n",
       "8           NaN          NaN          NaN          NaN          NaN   \n",
       "9           NaN          NaN          NaN          NaN          NaN   \n",
       "10          NaN          NaN          NaN          NaN          NaN   \n",
       "11          NaN          NaN          NaN          NaN          NaN   \n",
       "12          NaN          NaN          NaN          NaN          NaN   \n",
       "13          NaN          NaN          NaN          NaN          NaN   \n",
       "14          NaN          NaN          NaN          NaN          NaN   \n",
       "15          NaN          NaN          NaN          NaN          NaN   \n",
       "\n",
       "    Unnamed: 15  Unnamed: 16  Unnamed: 17  Unnamed: 18  Unnamed: 19  \n",
       "0           NaN          NaN          NaN          NaN          NaN  \n",
       "1           NaN          NaN          NaN          NaN          NaN  \n",
       "2           NaN          NaN          NaN          NaN          NaN  \n",
       "3           NaN          NaN          NaN          NaN          NaN  \n",
       "4           NaN          NaN          NaN          NaN          NaN  \n",
       "5           NaN          NaN          NaN          NaN          NaN  \n",
       "6           NaN          NaN          NaN          NaN          NaN  \n",
       "7           NaN          NaN          NaN          NaN          NaN  \n",
       "8           NaN          NaN          NaN          NaN          NaN  \n",
       "9           NaN          NaN          NaN          NaN          NaN  \n",
       "10          NaN          NaN          NaN          NaN          NaN  \n",
       "11          NaN          NaN          NaN          NaN          NaN  \n",
       "12          NaN          NaN          NaN          NaN          NaN  \n",
       "13          NaN          NaN          NaN          NaN          NaN  \n",
       "14          NaN          NaN          NaN          NaN          NaN  \n",
       "15          NaN          NaN          NaN          NaN          NaN  "
      ]
     },
     "execution_count": 47,
     "metadata": {},
     "output_type": "execute_result"
    }
   ],
   "source": [
    "hosp.head(16)"
   ]
  },
  {
   "cell_type": "code",
   "execution_count": 48,
   "metadata": {},
   "outputs": [],
   "source": [
    "internados = hosp['Hospitalized active']\n",
    "#new_uci = hosp['New UCI']\n",
    "new_cases = hosp['New cases']\n",
    "internados_cum = hosp['Hospitalized cumulative CORRECTED']\n",
    "uci = hosp['UCI']"
   ]
  },
  {
   "cell_type": "code",
   "execution_count": 49,
   "metadata": {},
   "outputs": [
    {
     "data": {
      "text/plain": [
       "85"
      ]
     },
     "execution_count": 49,
     "metadata": {},
     "output_type": "execute_result"
    }
   ],
   "source": [
    "len(internados)"
   ]
  },
  {
   "cell_type": "code",
   "execution_count": 50,
   "metadata": {},
   "outputs": [
    {
     "ename": "NameError",
     "evalue": "name 'new_uci' is not defined",
     "output_type": "error",
     "traceback": [
      "\u001b[0;31m---------------------------------------------------------------------------\u001b[0m",
      "\u001b[0;31mNameError\u001b[0m                                 Traceback (most recent call last)",
      "\u001b[0;32m<ipython-input-50-aea6ab2ecc77>\u001b[0m in \u001b[0;36m<module>\u001b[0;34m\u001b[0m\n\u001b[0;32m----> 1\u001b[0;31m \u001b[0mnew_uci\u001b[0m\u001b[0;34m[\u001b[0m\u001b[0;34m:\u001b[0m\u001b[0;36m20\u001b[0m\u001b[0;34m]\u001b[0m\u001b[0;34m\u001b[0m\u001b[0;34m\u001b[0m\u001b[0m\n\u001b[0m",
      "\u001b[0;31mNameError\u001b[0m: name 'new_uci' is not defined"
     ]
    }
   ],
   "source": [
    "new_uci[:20]"
   ]
  },
  {
   "cell_type": "code",
   "execution_count": null,
   "metadata": {},
   "outputs": [],
   "source": []
  },
  {
   "cell_type": "code",
   "execution_count": 51,
   "metadata": {},
   "outputs": [
    {
     "ename": "NameError",
     "evalue": "name 'new_uci' is not defined",
     "output_type": "error",
     "traceback": [
      "\u001b[0;31m---------------------------------------------------------------------------\u001b[0m",
      "\u001b[0;31mNameError\u001b[0m                                 Traceback (most recent call last)",
      "\u001b[0;32m<ipython-input-51-0440814eebd5>\u001b[0m in \u001b[0;36m<module>\u001b[0;34m\u001b[0m\n\u001b[0;32m----> 1\u001b[0;31m \u001b[0mprop_perc_new_uci_cases\u001b[0m \u001b[0;34m=\u001b[0m \u001b[0;34m(\u001b[0m\u001b[0mnew_uci\u001b[0m\u001b[0;34m[\u001b[0m\u001b[0;36m5\u001b[0m\u001b[0;34m:\u001b[0m\u001b[0;36m45\u001b[0m\u001b[0;34m]\u001b[0m\u001b[0;34m/\u001b[0m\u001b[0mnew_cases\u001b[0m\u001b[0;34m[\u001b[0m\u001b[0;36m0\u001b[0m\u001b[0;34m:\u001b[0m\u001b[0;36m40\u001b[0m\u001b[0;34m]\u001b[0m\u001b[0;34m)\u001b[0m\u001b[0;34m*\u001b[0m\u001b[0;36m100\u001b[0m\u001b[0;34m\u001b[0m\u001b[0;34m\u001b[0m\u001b[0m\n\u001b[0m",
      "\u001b[0;31mNameError\u001b[0m: name 'new_uci' is not defined"
     ]
    }
   ],
   "source": [
    "prop_perc_new_uci_cases = (new_uci[5:45]/new_cases[0:40])*100"
   ]
  },
  {
   "cell_type": "code",
   "execution_count": 52,
   "metadata": {},
   "outputs": [
    {
     "ename": "NameError",
     "evalue": "name 'prop_perc_new_uci_cases' is not defined",
     "output_type": "error",
     "traceback": [
      "\u001b[0;31m---------------------------------------------------------------------------\u001b[0m",
      "\u001b[0;31mNameError\u001b[0m                                 Traceback (most recent call last)",
      "\u001b[0;32m<ipython-input-52-c336b53bb7b9>\u001b[0m in \u001b[0;36m<module>\u001b[0;34m\u001b[0m\n\u001b[0;32m----> 1\u001b[0;31m \u001b[0mprint\u001b[0m\u001b[0;34m(\u001b[0m\u001b[0mprop_perc_new_uci_cases\u001b[0m\u001b[0;34m)\u001b[0m\u001b[0;34m\u001b[0m\u001b[0;34m\u001b[0m\u001b[0m\n\u001b[0m\u001b[1;32m      2\u001b[0m \u001b[0mprint\u001b[0m\u001b[0;34m(\u001b[0m\u001b[0mnp\u001b[0m\u001b[0;34m.\u001b[0m\u001b[0mmean\u001b[0m\u001b[0;34m(\u001b[0m\u001b[0mprop_perc_new_uci_cases\u001b[0m\u001b[0;34m)\u001b[0m\u001b[0;34m)\u001b[0m\u001b[0;34m\u001b[0m\u001b[0;34m\u001b[0m\u001b[0m\n",
      "\u001b[0;31mNameError\u001b[0m: name 'prop_perc_new_uci_cases' is not defined"
     ]
    }
   ],
   "source": [
    "print(prop_perc_new_uci_cases)\n",
    "print(np.mean(prop_perc_new_uci_cases))"
   ]
  },
  {
   "cell_type": "code",
   "execution_count": null,
   "metadata": {},
   "outputs": [],
   "source": []
  },
  {
   "cell_type": "code",
   "execution_count": null,
   "metadata": {},
   "outputs": [],
   "source": []
  },
  {
   "cell_type": "code",
   "execution_count": 53,
   "metadata": {},
   "outputs": [
    {
     "ename": "ValueError",
     "evalue": "operands could not be broadcast together with shapes (64,) (76,) ",
     "output_type": "error",
     "traceback": [
      "\u001b[0;31m---------------------------------------------------------------------------\u001b[0m",
      "\u001b[0;31mValueError\u001b[0m                                Traceback (most recent call last)",
      "\u001b[0;32m<ipython-input-53-238a67ccaf63>\u001b[0m in \u001b[0;36m<module>\u001b[0;34m\u001b[0m\n\u001b[0;32m----> 1\u001b[0;31m \u001b[0mprop_perc_int_ati\u001b[0m \u001b[0;34m=\u001b[0m \u001b[0;34m(\u001b[0m\u001b[0minternados\u001b[0m\u001b[0;34m[\u001b[0m\u001b[0;36m16\u001b[0m\u001b[0;34m:\u001b[0m\u001b[0;36m80\u001b[0m\u001b[0;34m]\u001b[0m\u001b[0;34m/\u001b[0m\u001b[0mativos\u001b[0m\u001b[0;34m[\u001b[0m\u001b[0;36m16\u001b[0m\u001b[0;34m:\u001b[0m\u001b[0;34m]\u001b[0m\u001b[0;34m)\u001b[0m\u001b[0;34m*\u001b[0m\u001b[0;36m100\u001b[0m\u001b[0;34m\u001b[0m\u001b[0;34m\u001b[0m\u001b[0m\n\u001b[0m",
      "\u001b[0;32m/opt/anaconda3/lib/python3.7/site-packages/pandas/core/ops/common.py\u001b[0m in \u001b[0;36mnew_method\u001b[0;34m(self, other)\u001b[0m\n\u001b[1;32m     63\u001b[0m         \u001b[0mother\u001b[0m \u001b[0;34m=\u001b[0m \u001b[0mitem_from_zerodim\u001b[0m\u001b[0;34m(\u001b[0m\u001b[0mother\u001b[0m\u001b[0;34m)\u001b[0m\u001b[0;34m\u001b[0m\u001b[0;34m\u001b[0m\u001b[0m\n\u001b[1;32m     64\u001b[0m \u001b[0;34m\u001b[0m\u001b[0m\n\u001b[0;32m---> 65\u001b[0;31m         \u001b[0;32mreturn\u001b[0m \u001b[0mmethod\u001b[0m\u001b[0;34m(\u001b[0m\u001b[0mself\u001b[0m\u001b[0;34m,\u001b[0m \u001b[0mother\u001b[0m\u001b[0;34m)\u001b[0m\u001b[0;34m\u001b[0m\u001b[0;34m\u001b[0m\u001b[0m\n\u001b[0m\u001b[1;32m     66\u001b[0m \u001b[0;34m\u001b[0m\u001b[0m\n\u001b[1;32m     67\u001b[0m     \u001b[0;32mreturn\u001b[0m \u001b[0mnew_method\u001b[0m\u001b[0;34m\u001b[0m\u001b[0;34m\u001b[0m\u001b[0m\n",
      "\u001b[0;32m/opt/anaconda3/lib/python3.7/site-packages/pandas/core/ops/__init__.py\u001b[0m in \u001b[0;36mwrapper\u001b[0;34m(left, right)\u001b[0m\n\u001b[1;32m    341\u001b[0m         \u001b[0mlvalues\u001b[0m \u001b[0;34m=\u001b[0m \u001b[0mextract_array\u001b[0m\u001b[0;34m(\u001b[0m\u001b[0mleft\u001b[0m\u001b[0;34m,\u001b[0m \u001b[0mextract_numpy\u001b[0m\u001b[0;34m=\u001b[0m\u001b[0;32mTrue\u001b[0m\u001b[0;34m)\u001b[0m\u001b[0;34m\u001b[0m\u001b[0;34m\u001b[0m\u001b[0m\n\u001b[1;32m    342\u001b[0m         \u001b[0mrvalues\u001b[0m \u001b[0;34m=\u001b[0m \u001b[0mextract_array\u001b[0m\u001b[0;34m(\u001b[0m\u001b[0mright\u001b[0m\u001b[0;34m,\u001b[0m \u001b[0mextract_numpy\u001b[0m\u001b[0;34m=\u001b[0m\u001b[0;32mTrue\u001b[0m\u001b[0;34m)\u001b[0m\u001b[0;34m\u001b[0m\u001b[0;34m\u001b[0m\u001b[0m\n\u001b[0;32m--> 343\u001b[0;31m         \u001b[0mresult\u001b[0m \u001b[0;34m=\u001b[0m \u001b[0marithmetic_op\u001b[0m\u001b[0;34m(\u001b[0m\u001b[0mlvalues\u001b[0m\u001b[0;34m,\u001b[0m \u001b[0mrvalues\u001b[0m\u001b[0;34m,\u001b[0m \u001b[0mop\u001b[0m\u001b[0;34m)\u001b[0m\u001b[0;34m\u001b[0m\u001b[0;34m\u001b[0m\u001b[0m\n\u001b[0m\u001b[1;32m    344\u001b[0m \u001b[0;34m\u001b[0m\u001b[0m\n\u001b[1;32m    345\u001b[0m         \u001b[0;32mreturn\u001b[0m \u001b[0mleft\u001b[0m\u001b[0;34m.\u001b[0m\u001b[0m_construct_result\u001b[0m\u001b[0;34m(\u001b[0m\u001b[0mresult\u001b[0m\u001b[0;34m,\u001b[0m \u001b[0mname\u001b[0m\u001b[0;34m=\u001b[0m\u001b[0mres_name\u001b[0m\u001b[0;34m)\u001b[0m\u001b[0;34m\u001b[0m\u001b[0;34m\u001b[0m\u001b[0m\n",
      "\u001b[0;32m/opt/anaconda3/lib/python3.7/site-packages/pandas/core/ops/array_ops.py\u001b[0m in \u001b[0;36marithmetic_op\u001b[0;34m(left, right, op)\u001b[0m\n\u001b[1;32m    187\u001b[0m     \u001b[0;32melse\u001b[0m\u001b[0;34m:\u001b[0m\u001b[0;34m\u001b[0m\u001b[0;34m\u001b[0m\u001b[0m\n\u001b[1;32m    188\u001b[0m         \u001b[0;32mwith\u001b[0m \u001b[0mnp\u001b[0m\u001b[0;34m.\u001b[0m\u001b[0merrstate\u001b[0m\u001b[0;34m(\u001b[0m\u001b[0mall\u001b[0m\u001b[0;34m=\u001b[0m\u001b[0;34m\"ignore\"\u001b[0m\u001b[0;34m)\u001b[0m\u001b[0;34m:\u001b[0m\u001b[0;34m\u001b[0m\u001b[0;34m\u001b[0m\u001b[0m\n\u001b[0;32m--> 189\u001b[0;31m             \u001b[0mres_values\u001b[0m \u001b[0;34m=\u001b[0m \u001b[0mna_arithmetic_op\u001b[0m\u001b[0;34m(\u001b[0m\u001b[0mlvalues\u001b[0m\u001b[0;34m,\u001b[0m \u001b[0mrvalues\u001b[0m\u001b[0;34m,\u001b[0m \u001b[0mop\u001b[0m\u001b[0;34m)\u001b[0m\u001b[0;34m\u001b[0m\u001b[0;34m\u001b[0m\u001b[0m\n\u001b[0m\u001b[1;32m    190\u001b[0m \u001b[0;34m\u001b[0m\u001b[0m\n\u001b[1;32m    191\u001b[0m     \u001b[0;32mreturn\u001b[0m \u001b[0mres_values\u001b[0m\u001b[0;34m\u001b[0m\u001b[0;34m\u001b[0m\u001b[0m\n",
      "\u001b[0;32m/opt/anaconda3/lib/python3.7/site-packages/pandas/core/ops/array_ops.py\u001b[0m in \u001b[0;36mna_arithmetic_op\u001b[0;34m(left, right, op, is_cmp)\u001b[0m\n\u001b[1;32m    140\u001b[0m \u001b[0;34m\u001b[0m\u001b[0m\n\u001b[1;32m    141\u001b[0m     \u001b[0;32mtry\u001b[0m\u001b[0;34m:\u001b[0m\u001b[0;34m\u001b[0m\u001b[0;34m\u001b[0m\u001b[0m\n\u001b[0;32m--> 142\u001b[0;31m         \u001b[0mresult\u001b[0m \u001b[0;34m=\u001b[0m \u001b[0mexpressions\u001b[0m\u001b[0;34m.\u001b[0m\u001b[0mevaluate\u001b[0m\u001b[0;34m(\u001b[0m\u001b[0mop\u001b[0m\u001b[0;34m,\u001b[0m \u001b[0mleft\u001b[0m\u001b[0;34m,\u001b[0m \u001b[0mright\u001b[0m\u001b[0;34m)\u001b[0m\u001b[0;34m\u001b[0m\u001b[0;34m\u001b[0m\u001b[0m\n\u001b[0m\u001b[1;32m    143\u001b[0m     \u001b[0;32mexcept\u001b[0m \u001b[0mTypeError\u001b[0m\u001b[0;34m:\u001b[0m\u001b[0;34m\u001b[0m\u001b[0;34m\u001b[0m\u001b[0m\n\u001b[1;32m    144\u001b[0m         \u001b[0;32mif\u001b[0m \u001b[0mis_cmp\u001b[0m\u001b[0;34m:\u001b[0m\u001b[0;34m\u001b[0m\u001b[0;34m\u001b[0m\u001b[0m\n",
      "\u001b[0;32m/opt/anaconda3/lib/python3.7/site-packages/pandas/core/computation/expressions.py\u001b[0m in \u001b[0;36mevaluate\u001b[0;34m(op, a, b, use_numexpr)\u001b[0m\n\u001b[1;32m    228\u001b[0m         \u001b[0muse_numexpr\u001b[0m \u001b[0;34m=\u001b[0m \u001b[0muse_numexpr\u001b[0m \u001b[0;32mand\u001b[0m \u001b[0m_bool_arith_check\u001b[0m\u001b[0;34m(\u001b[0m\u001b[0mop_str\u001b[0m\u001b[0;34m,\u001b[0m \u001b[0ma\u001b[0m\u001b[0;34m,\u001b[0m \u001b[0mb\u001b[0m\u001b[0;34m)\u001b[0m\u001b[0;34m\u001b[0m\u001b[0;34m\u001b[0m\u001b[0m\n\u001b[1;32m    229\u001b[0m         \u001b[0;32mif\u001b[0m \u001b[0muse_numexpr\u001b[0m\u001b[0;34m:\u001b[0m\u001b[0;34m\u001b[0m\u001b[0;34m\u001b[0m\u001b[0m\n\u001b[0;32m--> 230\u001b[0;31m             \u001b[0;32mreturn\u001b[0m \u001b[0m_evaluate\u001b[0m\u001b[0;34m(\u001b[0m\u001b[0mop\u001b[0m\u001b[0;34m,\u001b[0m \u001b[0mop_str\u001b[0m\u001b[0;34m,\u001b[0m \u001b[0ma\u001b[0m\u001b[0;34m,\u001b[0m \u001b[0mb\u001b[0m\u001b[0;34m)\u001b[0m  \u001b[0;31m# type: ignore\u001b[0m\u001b[0;34m\u001b[0m\u001b[0;34m\u001b[0m\u001b[0m\n\u001b[0m\u001b[1;32m    231\u001b[0m     \u001b[0;32mreturn\u001b[0m \u001b[0m_evaluate_standard\u001b[0m\u001b[0;34m(\u001b[0m\u001b[0mop\u001b[0m\u001b[0;34m,\u001b[0m \u001b[0mop_str\u001b[0m\u001b[0;34m,\u001b[0m \u001b[0ma\u001b[0m\u001b[0;34m,\u001b[0m \u001b[0mb\u001b[0m\u001b[0;34m)\u001b[0m\u001b[0;34m\u001b[0m\u001b[0;34m\u001b[0m\u001b[0m\n\u001b[1;32m    232\u001b[0m \u001b[0;34m\u001b[0m\u001b[0m\n",
      "\u001b[0;32m/opt/anaconda3/lib/python3.7/site-packages/pandas/core/computation/expressions.py\u001b[0m in \u001b[0;36m_evaluate_numexpr\u001b[0;34m(op, op_str, a, b)\u001b[0m\n\u001b[1;32m    117\u001b[0m \u001b[0;34m\u001b[0m\u001b[0m\n\u001b[1;32m    118\u001b[0m     \u001b[0;32mif\u001b[0m \u001b[0mresult\u001b[0m \u001b[0;32mis\u001b[0m \u001b[0;32mNone\u001b[0m\u001b[0;34m:\u001b[0m\u001b[0;34m\u001b[0m\u001b[0;34m\u001b[0m\u001b[0m\n\u001b[0;32m--> 119\u001b[0;31m         \u001b[0mresult\u001b[0m \u001b[0;34m=\u001b[0m \u001b[0m_evaluate_standard\u001b[0m\u001b[0;34m(\u001b[0m\u001b[0mop\u001b[0m\u001b[0;34m,\u001b[0m \u001b[0mop_str\u001b[0m\u001b[0;34m,\u001b[0m \u001b[0ma\u001b[0m\u001b[0;34m,\u001b[0m \u001b[0mb\u001b[0m\u001b[0;34m)\u001b[0m\u001b[0;34m\u001b[0m\u001b[0;34m\u001b[0m\u001b[0m\n\u001b[0m\u001b[1;32m    120\u001b[0m \u001b[0;34m\u001b[0m\u001b[0m\n\u001b[1;32m    121\u001b[0m     \u001b[0;32mreturn\u001b[0m \u001b[0mresult\u001b[0m\u001b[0;34m\u001b[0m\u001b[0;34m\u001b[0m\u001b[0m\n",
      "\u001b[0;32m/opt/anaconda3/lib/python3.7/site-packages/pandas/core/computation/expressions.py\u001b[0m in \u001b[0;36m_evaluate_standard\u001b[0;34m(op, op_str, a, b)\u001b[0m\n\u001b[1;32m     66\u001b[0m         \u001b[0m_store_test_result\u001b[0m\u001b[0;34m(\u001b[0m\u001b[0;32mFalse\u001b[0m\u001b[0;34m)\u001b[0m\u001b[0;34m\u001b[0m\u001b[0;34m\u001b[0m\u001b[0m\n\u001b[1;32m     67\u001b[0m     \u001b[0;32mwith\u001b[0m \u001b[0mnp\u001b[0m\u001b[0;34m.\u001b[0m\u001b[0merrstate\u001b[0m\u001b[0;34m(\u001b[0m\u001b[0mall\u001b[0m\u001b[0;34m=\u001b[0m\u001b[0;34m\"ignore\"\u001b[0m\u001b[0;34m)\u001b[0m\u001b[0;34m:\u001b[0m\u001b[0;34m\u001b[0m\u001b[0;34m\u001b[0m\u001b[0m\n\u001b[0;32m---> 68\u001b[0;31m         \u001b[0;32mreturn\u001b[0m \u001b[0mop\u001b[0m\u001b[0;34m(\u001b[0m\u001b[0ma\u001b[0m\u001b[0;34m,\u001b[0m \u001b[0mb\u001b[0m\u001b[0;34m)\u001b[0m\u001b[0;34m\u001b[0m\u001b[0;34m\u001b[0m\u001b[0m\n\u001b[0m\u001b[1;32m     69\u001b[0m \u001b[0;34m\u001b[0m\u001b[0m\n\u001b[1;32m     70\u001b[0m \u001b[0;34m\u001b[0m\u001b[0m\n",
      "\u001b[0;31mValueError\u001b[0m: operands could not be broadcast together with shapes (64,) (76,) "
     ]
    }
   ],
   "source": [
    "prop_perc_int_ati = (internados[16:80]/ativos[16:])*100"
   ]
  },
  {
   "cell_type": "code",
   "execution_count": null,
   "metadata": {},
   "outputs": [],
   "source": [
    "print(prop_perc_int_ati)\n",
    "print(np.mean(prop_perc_int_ati))"
   ]
  },
  {
   "cell_type": "code",
   "execution_count": 138,
   "metadata": {},
   "outputs": [],
   "source": [
    "prop_perc_uci_int = (uci[16:80]/internados[16:80])*100"
   ]
  },
  {
   "cell_type": "code",
   "execution_count": 139,
   "metadata": {},
   "outputs": [
    {
     "name": "stdout",
     "output_type": "stream",
     "text": [
      "16    22.471910\n",
      "17    22.471910\n",
      "18    20.634921\n",
      "19    22.435897\n",
      "20    24.260355\n",
      "        ...    \n",
      "75    17.503805\n",
      "76    16.640986\n",
      "77    16.719745\n",
      "78    16.057234\n",
      "79    15.270936\n",
      "Length: 64, dtype: float64\n",
      "19.601144295068657\n"
     ]
    }
   ],
   "source": [
    "print(prop_perc_uci_int)\n",
    "print(np.mean(prop_perc_uci_int))"
   ]
  },
  {
   "cell_type": "code",
   "execution_count": null,
   "metadata": {},
   "outputs": [],
   "source": []
  },
  {
   "cell_type": "code",
   "execution_count": 117,
   "metadata": {},
   "outputs": [],
   "source": [
    "prop_perc_int_novos = (internados[27:80]/aver[27:])"
   ]
  },
  {
   "cell_type": "code",
   "execution_count": 118,
   "metadata": {},
   "outputs": [
    {
     "name": "stdout",
     "output_type": "stream",
     "text": [
      "27    0.729146\n",
      "28    0.845508\n",
      "29    0.905895\n",
      "30    1.010298\n",
      "31    1.425965\n",
      "32    1.331599\n",
      "33    1.375971\n",
      "34    1.424442\n",
      "35    1.502461\n",
      "36    1.603261\n",
      "37    1.705954\n",
      "38    1.661473\n",
      "39    1.770625\n",
      "40    1.798653\n",
      "41    1.823487\n",
      "42    1.857590\n",
      "43    1.907452\n",
      "44    1.886792\n",
      "45    2.120061\n",
      "46    2.178487\n",
      "47    2.409924\n",
      "48    2.422687\n",
      "49    2.495524\n",
      "50    2.439295\n",
      "51    2.500000\n",
      "52    2.488259\n",
      "53    2.606573\n",
      "54    2.529183\n",
      "55    2.693407\n",
      "56    2.806506\n",
      "57    2.901426\n",
      "58    3.060587\n",
      "59    3.067822\n",
      "60    2.722279\n",
      "61    2.782599\n",
      "62    2.979118\n",
      "63    3.051802\n",
      "64    3.016966\n",
      "65    3.149587\n",
      "66    3.281602\n",
      "67    3.245952\n",
      "68    3.197750\n",
      "69    3.108424\n",
      "70    3.074866\n",
      "71    2.721341\n",
      "72    2.622537\n",
      "73    3.001698\n",
      "74    3.284383\n",
      "75    2.984856\n",
      "76    2.973168\n",
      "77    2.915506\n",
      "78    3.024038\n",
      "79    2.671053\n",
      "Name: Hospitalized active, dtype: float64\n",
      "2.3602988205050437\n"
     ]
    }
   ],
   "source": [
    "print(prop_perc_int_novos)\n",
    "print(np.mean(prop_perc_int_novos))"
   ]
  },
  {
   "cell_type": "code",
   "execution_count": 151,
   "metadata": {},
   "outputs": [
    {
     "name": "stdout",
     "output_type": "stream",
     "text": [
      "156.0\n",
      "15660.0\n"
     ]
    }
   ],
   "source": [
    "print(np.mean(uci[16:80]))\n",
    "print(np.mean(ativos[16:80]))"
   ]
  },
  {
   "cell_type": "code",
   "execution_count": 48,
   "metadata": {},
   "outputs": [],
   "source": [
    "prop_perc_uci_novos = (uci[29:80]/ativos[29:80])*100"
   ]
  },
  {
   "cell_type": "code",
   "execution_count": 49,
   "metadata": {},
   "outputs": [
    {
     "name": "stdout",
     "output_type": "stream",
     "text": [
      "29    2.596685\n",
      "30    2.867473\n",
      "31    2.740665\n",
      "32    2.580443\n",
      "33    2.464892\n",
      "34    2.447745\n",
      "35    2.393829\n",
      "36    2.274826\n",
      "37    1.949861\n",
      "38    1.806326\n",
      "39    1.526614\n",
      "40    1.527769\n",
      "41    1.442673\n",
      "42    1.166108\n",
      "43    1.318495\n",
      "44    1.215734\n",
      "45    1.292398\n",
      "46    1.243976\n",
      "47    1.239939\n",
      "48    1.186315\n",
      "49    1.101547\n",
      "50    1.081218\n",
      "51    1.032213\n",
      "52    1.003344\n",
      "53    0.907555\n",
      "54    0.880932\n",
      "55    0.848445\n",
      "56    0.816289\n",
      "57    0.788846\n",
      "58    0.772360\n",
      "59    0.775334\n",
      "60    0.689563\n",
      "61    0.666785\n",
      "62    0.638581\n",
      "63    0.628599\n",
      "64    0.585536\n",
      "65    0.590868\n",
      "66    0.578109\n",
      "67    0.535142\n",
      "68    0.504605\n",
      "69    0.468678\n",
      "70    0.466939\n",
      "71    0.476050\n",
      "72    0.433228\n",
      "73    0.451184\n",
      "74    0.465406\n",
      "75    0.483498\n",
      "76    0.465879\n",
      "77    0.487284\n",
      "78    0.464282\n",
      "79    0.423787\n",
      "Name: UCI, dtype: float64\n",
      "1.1332324221636922\n"
     ]
    }
   ],
   "source": [
    "print(prop_perc_uci_novos)\n",
    "print(np.mean(prop_perc_uci_novos))"
   ]
  },
  {
   "cell_type": "code",
   "execution_count": 104,
   "metadata": {},
   "outputs": [
    {
     "data": {
      "text/plain": [
       "462.07547169811323"
      ]
     },
     "execution_count": 104,
     "metadata": {},
     "output_type": "execute_result"
    }
   ],
   "source": [
    "np.mean(casos_novos[27:])"
   ]
  },
  {
   "cell_type": "code",
   "execution_count": 112,
   "metadata": {},
   "outputs": [],
   "source": [
    "prop_perc_int_cum = (internados_cum[16:60]/casos_cum[16:60])*100"
   ]
  },
  {
   "cell_type": "code",
   "execution_count": 113,
   "metadata": {},
   "outputs": [
    {
     "name": "stdout",
     "output_type": "stream",
     "text": [
      "16    22.741433\n",
      "17    22.292994\n",
      "18    20.490196\n",
      "19    21.171875\n",
      "20    20.375000\n",
      "21    19.174757\n",
      "22    19.263336\n",
      "23    17.796327\n",
      "24    18.289252\n",
      "25    18.580131\n",
      "26    18.046422\n",
      "27    18.433412\n",
      "28    19.413233\n",
      "29    19.011151\n",
      "30    19.052236\n",
      "31    19.393403\n",
      "32    19.360712\n",
      "33    19.460281\n",
      "34    19.444937\n",
      "35    19.769821\n",
      "36    19.675293\n",
      "37    19.564721\n",
      "38    19.224706\n",
      "39    17.690021\n",
      "40    17.795709\n",
      "41    17.377148\n",
      "42    17.272942\n",
      "43    16.764099\n",
      "44    16.168260\n",
      "45    15.524654\n",
      "46    15.376932\n",
      "47    14.859030\n",
      "48    14.475898\n",
      "49    14.020035\n",
      "50    13.681650\n",
      "51    13.306342\n",
      "52    13.085492\n",
      "53    12.830636\n",
      "54    12.569292\n",
      "55    12.350631\n",
      "56          NaN\n",
      "57          NaN\n",
      "58          NaN\n",
      "59          NaN\n",
      "Name: Hospitalized cumulative CORRECTED, dtype: float64\n",
      "17.629360031060703\n"
     ]
    }
   ],
   "source": [
    "print(prop_perc_int_cum)\n",
    "print(np.mean(prop_perc_int_cum))"
   ]
  },
  {
   "cell_type": "code",
   "execution_count": null,
   "metadata": {},
   "outputs": [],
   "source": []
  }
 ],
 "metadata": {
  "kernelspec": {
   "display_name": "Python 3",
   "language": "python",
   "name": "python3"
  },
  "language_info": {
   "codemirror_mode": {
    "name": "ipython",
    "version": 3
   },
   "file_extension": ".py",
   "mimetype": "text/x-python",
   "name": "python",
   "nbconvert_exporter": "python",
   "pygments_lexer": "ipython3",
   "version": "3.7.4"
  }
 },
 "nbformat": 4,
 "nbformat_minor": 2
}
